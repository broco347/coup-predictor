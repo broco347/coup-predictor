{
 "cells": [
  {
   "cell_type": "markdown",
   "metadata": {},
   "source": [
    "### Import Modules"
   ]
  },
  {
   "cell_type": "code",
   "execution_count": 1,
   "metadata": {},
   "outputs": [],
   "source": [
    "import pandas as pd\n",
    "import numpy as np\n",
    "import pickle"
   ]
  },
  {
   "cell_type": "markdown",
   "metadata": {},
   "source": [
    "### Load Datasets"
   ]
  },
  {
   "cell_type": "code",
   "execution_count": 2,
   "metadata": {},
   "outputs": [],
   "source": [
    "DIR='/Users/tim/src/Metis/Project_3/data/raw/'\n",
    "df_reign = pd.read_csv(DIR+'REIGN_2019_3.csv', encoding = 'ISO-8859-1')\n",
    "df_wdi = pd.read_csv(DIR+'WDIData.csv')\n",
    "df_penn = pd.read_csv(DIR+'pwt91.csv')"
   ]
  },
  {
   "cell_type": "markdown",
   "metadata": {},
   "source": [
    "### Prepare REIGN Dataset"
   ]
  },
  {
   "cell_type": "markdown",
   "metadata": {},
   "source": [
    "#### Filter"
   ]
  },
  {
   "cell_type": "code",
   "execution_count": 3,
   "metadata": {},
   "outputs": [],
   "source": [
    "# Select relevant features\n",
    "df_reign = df_reign[['country','year', 'government', 'militarycareer','tenure_months','prev_conflict', 'pt_attempt', 'exec_ant', 'irreg_lead_ant', 'exec_recent', 'lead_recent']]\n",
    "\n",
    "# Select observations only between 1989 and 2016\n",
    "df_r2 = df_reign[(df_reign['year'] > 1988) & (df_reign['year'] < 2017)]"
   ]
  },
  {
   "cell_type": "code",
   "execution_count": 4,
   "metadata": {},
   "outputs": [],
   "source": [
    "#df_r2.info()"
   ]
  },
  {
   "cell_type": "markdown",
   "metadata": {},
   "source": [
    "#### Aggregate Data by Year"
   ]
  },
  {
   "cell_type": "code",
   "execution_count": 5,
   "metadata": {
    "scrolled": true
   },
   "outputs": [
    {
     "name": "stderr",
     "output_type": "stream",
     "text": [
      "/anaconda3/envs/metis/lib/python3.6/site-packages/ipykernel_launcher.py:2: SettingWithCopyWarning: \n",
      "A value is trying to be set on a copy of a slice from a DataFrame.\n",
      "Try using .loc[row_indexer,col_indexer] = value instead\n",
      "\n",
      "See the caveats in the documentation: http://pandas.pydata.org/pandas-docs/stable/indexing.html#indexing-view-versus-copy\n",
      "  \n",
      "/anaconda3/envs/metis/lib/python3.6/site-packages/pandas/core/indexing.py:543: SettingWithCopyWarning: \n",
      "A value is trying to be set on a copy of a slice from a DataFrame.\n",
      "Try using .loc[row_indexer,col_indexer] = value instead\n",
      "\n",
      "See the caveats in the documentation: http://pandas.pydata.org/pandas-docs/stable/indexing.html#indexing-view-versus-copy\n",
      "  self.obj[item] = s\n"
     ]
    }
   ],
   "source": [
    "# Create prev_year column\n",
    "df_r2['prev_year'] = df_r2.year.shift()\n",
    "\n",
    "# Convert tenure_months to tenure by year\n",
    "df_r2.loc[(df_r2.prev_year.isnull() == True) | (df_r2.year != df_r2['prev_year']), 'tenure_months'] = (df_r2.tenure_months/12)\n",
    "df_r2.loc[df_r2.year == df_r2.prev_year, 'tenure_months'] = 0 \n",
    "\n",
    "# Sum up columns by country by year\n",
    "df_r3 = df_r2.groupby(['country', 'year']).sum()"
   ]
  },
  {
   "cell_type": "markdown",
   "metadata": {},
   "source": [
    "#### Flatten Groupby"
   ]
  },
  {
   "cell_type": "code",
   "execution_count": 6,
   "metadata": {},
   "outputs": [],
   "source": [
    "df_r3.reset_index(inplace=True)"
   ]
  },
  {
   "cell_type": "code",
   "execution_count": 7,
   "metadata": {},
   "outputs": [],
   "source": [
    "#df_r3.info()"
   ]
  },
  {
   "cell_type": "markdown",
   "metadata": {},
   "source": [
    "#### Fix Aggregation"
   ]
  },
  {
   "cell_type": "code",
   "execution_count": 24,
   "metadata": {},
   "outputs": [
    {
     "ename": "AttributeError",
     "evalue": "'DataFrame' object has no attribute 'pt_attempt'",
     "output_type": "error",
     "traceback": [
      "\u001b[0;31m-------------------------------------------------------------------------\u001b[0m",
      "\u001b[0;31mAttributeError\u001b[0m                          Traceback (most recent call last)",
      "\u001b[0;32m<ipython-input-24-531afa9c1cea>\u001b[0m in \u001b[0;36m<module>\u001b[0;34m\u001b[0m\n\u001b[1;32m      1\u001b[0m \u001b[0;31m# Shift prev_conflict and coup attempts\u001b[0m\u001b[0;34m\u001b[0m\u001b[0;34m\u001b[0m\u001b[0;34m\u001b[0m\u001b[0m\n\u001b[0;32m----> 2\u001b[0;31m \u001b[0mdf_r3\u001b[0m\u001b[0;34m[\u001b[0m\u001b[0;34m'coup'\u001b[0m\u001b[0;34m]\u001b[0m \u001b[0;34m=\u001b[0m \u001b[0mdf_r3\u001b[0m\u001b[0;34m.\u001b[0m\u001b[0mpt_attempt\u001b[0m\u001b[0;34m.\u001b[0m\u001b[0mshift\u001b[0m\u001b[0;34m(\u001b[0m\u001b[0;34m)\u001b[0m\u001b[0;34m\u001b[0m\u001b[0;34m\u001b[0m\u001b[0m\n\u001b[0m\u001b[1;32m      3\u001b[0m \u001b[0mdf_r3\u001b[0m\u001b[0;34m[\u001b[0m\u001b[0;34m'prev_year_conflict'\u001b[0m\u001b[0;34m]\u001b[0m \u001b[0;34m=\u001b[0m \u001b[0mdf_r3\u001b[0m\u001b[0;34m.\u001b[0m\u001b[0mprev_conflict\u001b[0m\u001b[0;34m.\u001b[0m\u001b[0mshift\u001b[0m\u001b[0;34m(\u001b[0m\u001b[0;34m)\u001b[0m\u001b[0;34m\u001b[0m\u001b[0;34m\u001b[0m\u001b[0m\n\u001b[1;32m      4\u001b[0m \u001b[0;34m\u001b[0m\u001b[0m\n\u001b[1;32m      5\u001b[0m \u001b[0;31m# Convert categories back to binary form\u001b[0m\u001b[0;34m\u001b[0m\u001b[0;34m\u001b[0m\u001b[0;34m\u001b[0m\u001b[0m\n",
      "\u001b[0;32m/anaconda3/envs/metis/lib/python3.6/site-packages/pandas/core/generic.py\u001b[0m in \u001b[0;36m__getattr__\u001b[0;34m(self, name)\u001b[0m\n\u001b[1;32m   5065\u001b[0m             \u001b[0;32mif\u001b[0m \u001b[0mself\u001b[0m\u001b[0;34m.\u001b[0m\u001b[0m_info_axis\u001b[0m\u001b[0;34m.\u001b[0m\u001b[0m_can_hold_identifiers_and_holds_name\u001b[0m\u001b[0;34m(\u001b[0m\u001b[0mname\u001b[0m\u001b[0;34m)\u001b[0m\u001b[0;34m:\u001b[0m\u001b[0;34m\u001b[0m\u001b[0;34m\u001b[0m\u001b[0m\n\u001b[1;32m   5066\u001b[0m                 \u001b[0;32mreturn\u001b[0m \u001b[0mself\u001b[0m\u001b[0;34m[\u001b[0m\u001b[0mname\u001b[0m\u001b[0;34m]\u001b[0m\u001b[0;34m\u001b[0m\u001b[0;34m\u001b[0m\u001b[0m\n\u001b[0;32m-> 5067\u001b[0;31m             \u001b[0;32mreturn\u001b[0m \u001b[0mobject\u001b[0m\u001b[0;34m.\u001b[0m\u001b[0m__getattribute__\u001b[0m\u001b[0;34m(\u001b[0m\u001b[0mself\u001b[0m\u001b[0;34m,\u001b[0m \u001b[0mname\u001b[0m\u001b[0;34m)\u001b[0m\u001b[0;34m\u001b[0m\u001b[0;34m\u001b[0m\u001b[0m\n\u001b[0m\u001b[1;32m   5068\u001b[0m \u001b[0;34m\u001b[0m\u001b[0m\n\u001b[1;32m   5069\u001b[0m     \u001b[0;32mdef\u001b[0m \u001b[0m__setattr__\u001b[0m\u001b[0;34m(\u001b[0m\u001b[0mself\u001b[0m\u001b[0;34m,\u001b[0m \u001b[0mname\u001b[0m\u001b[0;34m,\u001b[0m \u001b[0mvalue\u001b[0m\u001b[0;34m)\u001b[0m\u001b[0;34m:\u001b[0m\u001b[0;34m\u001b[0m\u001b[0;34m\u001b[0m\u001b[0m\n",
      "\u001b[0;31mAttributeError\u001b[0m: 'DataFrame' object has no attribute 'pt_attempt'"
     ]
    }
   ],
   "source": [
    "# Shift prev_conflict and coup attempts\n",
    "df_r3['coup'] = df_r3.pt_attempt.shift()\n",
    "df_r3['prev_year_conflict'] = df_r3.prev_conflict.shift()\n",
    "\n",
    "# Convert categories back to binary form\n",
    "df_r3.loc[df_r3.militarycareer > 0, 'militarycareer'] = 1 \n",
    "df_r3.loc[df_r3.exec_ant > 0, 'exec_ant'] = 1\n",
    "df_r3.loc[df_r3.irreg_lead_ant > 0, 'irreg_lead_ant'] = 1\n",
    "df_r3.loc[df_r3.exec_recent > 0, 'exec_recent'] = 1\n",
    "df_r3.loc[df_r3.lead_recent > 0, 'lead_recent'] = 1\n",
    "df_r3.loc[df_r3.coup > 0, 'coup'] = 1"
   ]
  },
  {
   "cell_type": "markdown",
   "metadata": {},
   "source": [
    "#### Rename variables"
   ]
  },
  {
   "cell_type": "code",
   "execution_count": 9,
   "metadata": {},
   "outputs": [],
   "source": [
    "df_r3.rename(columns={'militarycareer':'mil_career',\n",
    "                      'tenure_months':'tenure', 'prev_conflict':'prev_conflict2',\n",
    "                      'prev_year_conflict':'prev_conflict'}, inplace=True)"
   ]
  },
  {
   "cell_type": "markdown",
   "metadata": {},
   "source": [
    "#### Filter Again"
   ]
  },
  {
   "cell_type": "code",
   "execution_count": 10,
   "metadata": {},
   "outputs": [],
   "source": [
    "# Remove obsolete columns\n",
    "df_r3.drop(columns = ['prev_year', 'prev_conflict2', 'pt_attempt'], inplace=True)\n",
    "\n",
    "# Select only observations from 1990 and on\n",
    "df_r4 = df_r3[(df_r3['year'] >= 1990)]"
   ]
  },
  {
   "cell_type": "code",
   "execution_count": 11,
   "metadata": {},
   "outputs": [
    {
     "name": "stderr",
     "output_type": "stream",
     "text": [
      "/anaconda3/envs/metis/lib/python3.6/site-packages/pandas/core/generic.py:5096: SettingWithCopyWarning: \n",
      "A value is trying to be set on a copy of a slice from a DataFrame.\n",
      "Try using .loc[row_indexer,col_indexer] = value instead\n",
      "\n",
      "See the caveats in the documentation: http://pandas.pydata.org/pandas-docs/stable/indexing.html#indexing-view-versus-copy\n",
      "  self[name] = value\n"
     ]
    }
   ],
   "source": [
    "# Convery binary categories to integers\n",
    "df_r4.coup = df_r4.coup.astype(int)\n",
    "df_r4.year = df_r4.year.astype(int)\n",
    "df_r4.mil_career = df_r4.mil_career.astype(int)\n",
    "df_r4.prev_conflict = df_r4.prev_conflict.astype(int)"
   ]
  },
  {
   "cell_type": "code",
   "execution_count": 13,
   "metadata": {},
   "outputs": [],
   "source": [
    "#df_r4.info()"
   ]
  },
  {
   "cell_type": "markdown",
   "metadata": {},
   "source": [
    "### Prepare WDI Dataset"
   ]
  },
  {
   "cell_type": "markdown",
   "metadata": {},
   "source": [
    "#### Filter"
   ]
  },
  {
   "cell_type": "code",
   "execution_count": 14,
   "metadata": {},
   "outputs": [],
   "source": [
    "# Select country aggregated data\n",
    "df_w2 = df_wdi[74965:]\n",
    "\n",
    "# Drop Country Code, Indicator Name, and Unnamed Column\n",
    "df_w2 = df_w2.drop(['Country Code', 'Indicator Name'], axis=1).drop(df_w2.columns[[-1]], axis=1).reset_index(drop=True)"
   ]
  },
  {
   "cell_type": "markdown",
   "metadata": {},
   "source": [
    "#### Transform"
   ]
  },
  {
   "cell_type": "code",
   "execution_count": 15,
   "metadata": {
    "scrolled": true
   },
   "outputs": [],
   "source": [
    "# Unpivot by Country Name, Indicator Code, and Date\n",
    "df_w3 = df_w2.melt(['Country Name', 'Indicator Code'], var_name='Date', value_name='Value')\n",
    "\n",
    "# Combine Date and Country Columns\n",
    "df_w3['Date-Country'] = df_w3['Date'] +'-'+ df_w3['Country Name']\n",
    "\n",
    "#Drop Date and Country Columns\n",
    "df_w3.drop(['Date', 'Country Name'], axis=1, inplace=True)\n",
    "\n",
    "# Pivot by Date-Country and Indicator Code\n",
    "df_w3 = df_w3.pivot(index='Date-Country', columns='Indicator Code', values='Value')\n",
    "df_w3.reset_index(level=0, inplace=True)"
   ]
  },
  {
   "cell_type": "markdown",
   "metadata": {},
   "source": [
    "#### Filter Again"
   ]
  },
  {
   "cell_type": "code",
   "execution_count": 16,
   "metadata": {},
   "outputs": [],
   "source": [
    "# Select Relevant Features\n",
    "df_w4 = df_w3[['Date-Country', 'NY.GDP.TOTL.RT.ZS', 'SN.ITK.DEFC.ZS', 'SE.XPD.TOTL.GD.ZS', 'SH.XPD.GHED.GD.ZS', 'FI.RES.TOTL.DT.ZS', 'GC.REV.XGRT.GD.ZS', 'EG.ELC.ACCS.ZS', 'DT.DFR.DPPG.CD', 'SP.DYN.LE00.IN', 'MS.MIL.XPND.GD.ZS', 'SH.STA.BASS.ZS', 'SH.H2O.BASW.ZS', 'GC.TAX.TOTL.GD.ZS', 'MS.MIL.TOTL.TF.ZS']]\n",
    "\n",
    "# Split Date-Country Column \n",
    "df_w5 = pd.DataFrame(df_w4['Date-Country'].str.split(\"-\", 1).tolist(), columns = ['year','country']).join(df_w4)\n",
    "\n",
    "# Remove Date-Country Column\n",
    "df_w5 = df_w5.drop(['Date-Country'], axis=1)\n",
    "\n",
    "# Select Relevant Years\n",
    "df_w5['year'] = df_w5['year'].apply(pd.to_numeric) \n",
    "df_w5 = df_w5[(df_w5['year'] >= 1990) & (df_w5['year'] < 2017)]"
   ]
  },
  {
   "cell_type": "markdown",
   "metadata": {},
   "source": [
    "#### Rename Features"
   ]
  },
  {
   "cell_type": "code",
   "execution_count": 17,
   "metadata": {},
   "outputs": [],
   "source": [
    "df_w5.rename(columns={'NY.GDP.TOTL.RT.ZS':'nat_resources', 'SN.ITK.DEFC.ZS':'food_scarcity',\n",
    "                      'SE.XPD.TOTL.GD.ZS':'education', 'SH.XPD.GHED.GD.ZS':'healthcare',\n",
    "                      'FI.RES.TOTL.DT.ZS':'reserves', 'GC.REV.XGRT.GD.ZS':'revenue',\n",
    "                      'EG.ELC.ACCS.ZS': 'electricity', 'DT.DFR.DPPG.CD':'debt_forgiven', \n",
    "                      'SP.DYN.LE00.IN': 'life_exp', 'MS.MIL.XPND.GD.ZS': 'mil_spending', \n",
    "                      'SH.STA.BASS.ZS': 'sanitation', 'SH.H2O.BASW.ZS': 'water',\n",
    "                      'GC.TAX.TOTL.GD.ZS':'tax', 'MS.MIL.TOTL.TF.ZS': 'military_pop'}, inplace=True)"
   ]
  },
  {
   "cell_type": "code",
   "execution_count": 18,
   "metadata": {},
   "outputs": [],
   "source": [
    "#df_w5.info()"
   ]
  },
  {
   "cell_type": "markdown",
   "metadata": {},
   "source": [
    "### Clean Penn Table Dataset"
   ]
  },
  {
   "cell_type": "markdown",
   "metadata": {},
   "source": [
    "#### Filter"
   ]
  },
  {
   "cell_type": "code",
   "execution_count": 19,
   "metadata": {},
   "outputs": [],
   "source": [
    "# Select relevant features\n",
    "df_p2 = df_penn[['country', 'year', 'rgdpe', 'hc']]\n",
    "\n",
    "# Select target years\n",
    "df_p2 = df_p2[(df_p2['year'] >= 1990) & (df_p2['year'] < 2017)]"
   ]
  },
  {
   "cell_type": "code",
   "execution_count": 20,
   "metadata": {},
   "outputs": [],
   "source": [
    "#df_p2.info()"
   ]
  },
  {
   "cell_type": "markdown",
   "metadata": {},
   "source": [
    "### Join Datasets"
   ]
  },
  {
   "cell_type": "code",
   "execution_count": 21,
   "metadata": {},
   "outputs": [],
   "source": [
    "df_merge2 = pd.merge(df_r4, df_w5, how='left', on=['country', 'year'])\n",
    "df_merge3 = pd.merge(df_merge2, df_p2, how='left', on=['country', 'year'])"
   ]
  },
  {
   "cell_type": "code",
   "execution_count": 22,
   "metadata": {},
   "outputs": [],
   "source": [
    "#df_merge3.info()"
   ]
  },
  {
   "cell_type": "code",
   "execution_count": 23,
   "metadata": {},
   "outputs": [],
   "source": [
    "# filepath = '/Users/tim/src/Metis/Project_3/data/interim/df_merge3.pkl'\n",
    "# with open(filepath, 'wb') as pkl:\n",
    "#     pickle.dump(df_merge3, pkl)"
   ]
  },
  {
   "cell_type": "code",
   "execution_count": null,
   "metadata": {},
   "outputs": [],
   "source": []
  }
 ],
 "metadata": {
  "kernelspec": {
   "display_name": "metis",
   "language": "python",
   "name": "metis"
  },
  "language_info": {
   "codemirror_mode": {
    "name": "ipython",
    "version": 3
   },
   "file_extension": ".py",
   "mimetype": "text/x-python",
   "name": "python",
   "nbconvert_exporter": "python",
   "pygments_lexer": "ipython3",
   "version": "3.6.8"
  },
  "toc": {
   "base_numbering": 1,
   "nav_menu": {},
   "number_sections": true,
   "sideBar": true,
   "skip_h1_title": false,
   "title_cell": "Table of Contents",
   "title_sidebar": "Contents",
   "toc_cell": false,
   "toc_position": {},
   "toc_section_display": true,
   "toc_window_display": false
  },
  "varInspector": {
   "cols": {
    "lenName": 16,
    "lenType": 16,
    "lenVar": 40
   },
   "kernels_config": {
    "python": {
     "delete_cmd_postfix": "",
     "delete_cmd_prefix": "del ",
     "library": "var_list.py",
     "varRefreshCmd": "print(var_dic_list())"
    },
    "r": {
     "delete_cmd_postfix": ") ",
     "delete_cmd_prefix": "rm(",
     "library": "var_list.r",
     "varRefreshCmd": "cat(var_dic_list()) "
    }
   },
   "types_to_exclude": [
    "module",
    "function",
    "builtin_function_or_method",
    "instance",
    "_Feature"
   ],
   "window_display": false
  }
 },
 "nbformat": 4,
 "nbformat_minor": 2
}
