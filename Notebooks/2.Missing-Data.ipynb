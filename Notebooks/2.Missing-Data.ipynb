{
 "cells": [
  {
   "cell_type": "code",
   "execution_count": null,
   "metadata": {},
   "outputs": [],
   "source": [
    "from IPython.core.display import display, HTML\n",
    "display(HTML(\"<style>.container { width:95% !important; }</style>\"))"
   ]
  },
  {
   "cell_type": "markdown",
   "metadata": {},
   "source": [
    "### Import Modules"
   ]
  },
  {
   "cell_type": "code",
   "execution_count": 14,
   "metadata": {},
   "outputs": [],
   "source": [
    "import pandas as pd\n",
    "import seaborn as sns\n",
    "import pickle\n",
    "\n",
    "from sklearn.preprocessing import StandardScaler, Imputer\n",
    "from sklearn.model_selection import train_test_split"
   ]
  },
  {
   "cell_type": "markdown",
   "metadata": {},
   "source": [
    "### Load Dataset"
   ]
  },
  {
   "cell_type": "code",
   "execution_count": 3,
   "metadata": {},
   "outputs": [],
   "source": [
    "filepath = '/Users/tim/src/Metis/Project_3/data/interim/df_merge3.pkl'\n",
    "with open(filepath, 'rb') as pkl:\n",
    "    df = pickle.load(pkl)"
   ]
  },
  {
   "cell_type": "code",
   "execution_count": 4,
   "metadata": {},
   "outputs": [
    {
     "name": "stdout",
     "output_type": "stream",
     "text": [
      "<class 'pandas.core.frame.DataFrame'>\n",
      "Int64Index: 5138 entries, 0 to 5137\n",
      "Data columns (total 26 columns):\n",
      "country           5138 non-null object\n",
      "year              5138 non-null int64\n",
      "mil_career        5138 non-null int64\n",
      "tenure            5138 non-null float64\n",
      "exec_ant          5138 non-null int64\n",
      "irreg_lead_ant    5138 non-null int64\n",
      "exec_recent       5138 non-null int64\n",
      "lead_recent       5138 non-null int64\n",
      "coup              5138 non-null int64\n",
      "prev_conflict     5138 non-null int64\n",
      "nat_resources     4150 non-null float64\n",
      "food_scarcity     2271 non-null float64\n",
      "education         2168 non-null float64\n",
      "healthcare        2401 non-null float64\n",
      "reserves          2291 non-null float64\n",
      "revenue           2482 non-null float64\n",
      "electricity       4234 non-null float64\n",
      "debt_forgiven     2691 non-null float64\n",
      "life_exp          4070 non-null float64\n",
      "mil_spending      3337 non-null float64\n",
      "sanitation        2531 non-null float64\n",
      "water             2526 non-null float64\n",
      "tax               2494 non-null float64\n",
      "military_pop      3643 non-null float64\n",
      "rgdpe             3806 non-null float64\n",
      "hc                3258 non-null float64\n",
      "dtypes: float64(17), int64(8), object(1)\n",
      "memory usage: 1.1+ MB\n"
     ]
    }
   ],
   "source": [
    "df.info()"
   ]
  },
  {
   "cell_type": "code",
   "execution_count": 5,
   "metadata": {},
   "outputs": [
    {
     "data": {
      "text/html": [
       "<div>\n",
       "<style scoped>\n",
       "    .dataframe tbody tr th:only-of-type {\n",
       "        vertical-align: middle;\n",
       "    }\n",
       "\n",
       "    .dataframe tbody tr th {\n",
       "        vertical-align: top;\n",
       "    }\n",
       "\n",
       "    .dataframe thead th {\n",
       "        text-align: right;\n",
       "    }\n",
       "</style>\n",
       "<table border=\"1\" class=\"dataframe\">\n",
       "  <thead>\n",
       "    <tr style=\"text-align: right;\">\n",
       "      <th></th>\n",
       "      <th>year</th>\n",
       "      <th>mil_career</th>\n",
       "      <th>tenure</th>\n",
       "      <th>exec_ant</th>\n",
       "      <th>irreg_lead_ant</th>\n",
       "      <th>exec_recent</th>\n",
       "      <th>lead_recent</th>\n",
       "      <th>coup</th>\n",
       "      <th>prev_conflict</th>\n",
       "      <th>nat_resources</th>\n",
       "      <th>...</th>\n",
       "      <th>electricity</th>\n",
       "      <th>debt_forgiven</th>\n",
       "      <th>life_exp</th>\n",
       "      <th>mil_spending</th>\n",
       "      <th>sanitation</th>\n",
       "      <th>water</th>\n",
       "      <th>tax</th>\n",
       "      <th>military_pop</th>\n",
       "      <th>rgdpe</th>\n",
       "      <th>hc</th>\n",
       "    </tr>\n",
       "  </thead>\n",
       "  <tbody>\n",
       "    <tr>\n",
       "      <th>count</th>\n",
       "      <td>5138.000000</td>\n",
       "      <td>5138.000000</td>\n",
       "      <td>5138.000000</td>\n",
       "      <td>5138.000000</td>\n",
       "      <td>5138.000000</td>\n",
       "      <td>5138.000000</td>\n",
       "      <td>5138.000000</td>\n",
       "      <td>5138.000000</td>\n",
       "      <td>5138.000000</td>\n",
       "      <td>4150.000000</td>\n",
       "      <td>...</td>\n",
       "      <td>4234.000000</td>\n",
       "      <td>2.691000e+03</td>\n",
       "      <td>4070.000000</td>\n",
       "      <td>3337.000000</td>\n",
       "      <td>2531.000000</td>\n",
       "      <td>2526.000000</td>\n",
       "      <td>2494.000000</td>\n",
       "      <td>3643.000000</td>\n",
       "      <td>3.806000e+03</td>\n",
       "      <td>3258.000000</td>\n",
       "    </tr>\n",
       "    <tr>\n",
       "      <th>mean</th>\n",
       "      <td>2003.100428</td>\n",
       "      <td>0.167575</td>\n",
       "      <td>7.029648</td>\n",
       "      <td>0.166018</td>\n",
       "      <td>0.044959</td>\n",
       "      <td>0.156286</td>\n",
       "      <td>0.292332</td>\n",
       "      <td>0.020631</td>\n",
       "      <td>2.157649</td>\n",
       "      <td>7.211303</td>\n",
       "      <td>...</td>\n",
       "      <td>74.197527</td>\n",
       "      <td>-1.029608e+08</td>\n",
       "      <td>67.977616</td>\n",
       "      <td>2.384674</td>\n",
       "      <td>70.980481</td>\n",
       "      <td>83.542215</td>\n",
       "      <td>17.497845</td>\n",
       "      <td>1.557235</td>\n",
       "      <td>3.338019e+05</td>\n",
       "      <td>2.370840</td>\n",
       "    </tr>\n",
       "    <tr>\n",
       "      <th>std</th>\n",
       "      <td>7.786875</td>\n",
       "      <td>0.373525</td>\n",
       "      <td>8.436585</td>\n",
       "      <td>0.372133</td>\n",
       "      <td>0.207235</td>\n",
       "      <td>0.363162</td>\n",
       "      <td>0.454878</td>\n",
       "      <td>0.142158</td>\n",
       "      <td>7.079684</td>\n",
       "      <td>11.526182</td>\n",
       "      <td>...</td>\n",
       "      <td>33.732617</td>\n",
       "      <td>7.862107e+08</td>\n",
       "      <td>9.680143</td>\n",
       "      <td>3.329329</td>\n",
       "      <td>30.773775</td>\n",
       "      <td>19.703826</td>\n",
       "      <td>7.672055</td>\n",
       "      <td>1.792741</td>\n",
       "      <td>1.025757e+06</td>\n",
       "      <td>0.690561</td>\n",
       "    </tr>\n",
       "    <tr>\n",
       "      <th>min</th>\n",
       "      <td>1990.000000</td>\n",
       "      <td>0.000000</td>\n",
       "      <td>0.000000</td>\n",
       "      <td>0.000000</td>\n",
       "      <td>0.000000</td>\n",
       "      <td>0.000000</td>\n",
       "      <td>0.000000</td>\n",
       "      <td>0.000000</td>\n",
       "      <td>0.000000</td>\n",
       "      <td>0.000000</td>\n",
       "      <td>...</td>\n",
       "      <td>0.000000</td>\n",
       "      <td>-2.925860e+10</td>\n",
       "      <td>27.610000</td>\n",
       "      <td>0.000000</td>\n",
       "      <td>3.150087</td>\n",
       "      <td>16.734686</td>\n",
       "      <td>0.043495</td>\n",
       "      <td>0.000000</td>\n",
       "      <td>1.852567e+02</td>\n",
       "      <td>1.029605</td>\n",
       "    </tr>\n",
       "    <tr>\n",
       "      <th>25%</th>\n",
       "      <td>1996.000000</td>\n",
       "      <td>0.000000</td>\n",
       "      <td>1.583333</td>\n",
       "      <td>0.000000</td>\n",
       "      <td>0.000000</td>\n",
       "      <td>0.000000</td>\n",
       "      <td>0.000000</td>\n",
       "      <td>0.000000</td>\n",
       "      <td>0.000000</td>\n",
       "      <td>0.286974</td>\n",
       "      <td>...</td>\n",
       "      <td>50.134729</td>\n",
       "      <td>-4.328000e+06</td>\n",
       "      <td>61.730000</td>\n",
       "      <td>1.094534</td>\n",
       "      <td>42.077048</td>\n",
       "      <td>74.875482</td>\n",
       "      <td>12.655118</td>\n",
       "      <td>0.499252</td>\n",
       "      <td>1.336585e+04</td>\n",
       "      <td>1.784048</td>\n",
       "    </tr>\n",
       "    <tr>\n",
       "      <th>50%</th>\n",
       "      <td>2003.000000</td>\n",
       "      <td>0.000000</td>\n",
       "      <td>3.916667</td>\n",
       "      <td>0.000000</td>\n",
       "      <td>0.000000</td>\n",
       "      <td>0.000000</td>\n",
       "      <td>0.000000</td>\n",
       "      <td>0.000000</td>\n",
       "      <td>0.000000</td>\n",
       "      <td>2.120725</td>\n",
       "      <td>...</td>\n",
       "      <td>94.791840</td>\n",
       "      <td>0.000000e+00</td>\n",
       "      <td>70.217000</td>\n",
       "      <td>1.646952</td>\n",
       "      <td>85.294692</td>\n",
       "      <td>91.784247</td>\n",
       "      <td>16.998816</td>\n",
       "      <td>1.031299</td>\n",
       "      <td>4.675649e+04</td>\n",
       "      <td>2.417113</td>\n",
       "    </tr>\n",
       "    <tr>\n",
       "      <th>75%</th>\n",
       "      <td>2010.000000</td>\n",
       "      <td>0.000000</td>\n",
       "      <td>8.916667</td>\n",
       "      <td>0.000000</td>\n",
       "      <td>0.000000</td>\n",
       "      <td>0.000000</td>\n",
       "      <td>1.000000</td>\n",
       "      <td>0.000000</td>\n",
       "      <td>0.000000</td>\n",
       "      <td>8.740537</td>\n",
       "      <td>...</td>\n",
       "      <td>100.000000</td>\n",
       "      <td>0.000000e+00</td>\n",
       "      <td>75.227707</td>\n",
       "      <td>2.700748</td>\n",
       "      <td>97.679045</td>\n",
       "      <td>99.208811</td>\n",
       "      <td>22.155642</td>\n",
       "      <td>1.824027</td>\n",
       "      <td>2.392072e+05</td>\n",
       "      <td>2.929119</td>\n",
       "    </tr>\n",
       "    <tr>\n",
       "      <th>max</th>\n",
       "      <td>2016.000000</td>\n",
       "      <td>1.000000</td>\n",
       "      <td>55.750000</td>\n",
       "      <td>1.000000</td>\n",
       "      <td>1.000000</td>\n",
       "      <td>1.000000</td>\n",
       "      <td>1.000000</td>\n",
       "      <td>1.000000</td>\n",
       "      <td>104.000000</td>\n",
       "      <td>82.589361</td>\n",
       "      <td>...</td>\n",
       "      <td>100.000000</td>\n",
       "      <td>0.000000e+00</td>\n",
       "      <td>85.417073</td>\n",
       "      <td>117.349823</td>\n",
       "      <td>100.000000</td>\n",
       "      <td>100.000000</td>\n",
       "      <td>62.858611</td>\n",
       "      <td>34.697000</td>\n",
       "      <td>1.754609e+07</td>\n",
       "      <td>3.809064</td>\n",
       "    </tr>\n",
       "  </tbody>\n",
       "</table>\n",
       "<p>8 rows × 25 columns</p>\n",
       "</div>"
      ],
      "text/plain": [
       "              year   mil_career       tenure     exec_ant  irreg_lead_ant  \\\n",
       "count  5138.000000  5138.000000  5138.000000  5138.000000     5138.000000   \n",
       "mean   2003.100428     0.167575     7.029648     0.166018        0.044959   \n",
       "std       7.786875     0.373525     8.436585     0.372133        0.207235   \n",
       "min    1990.000000     0.000000     0.000000     0.000000        0.000000   \n",
       "25%    1996.000000     0.000000     1.583333     0.000000        0.000000   \n",
       "50%    2003.000000     0.000000     3.916667     0.000000        0.000000   \n",
       "75%    2010.000000     0.000000     8.916667     0.000000        0.000000   \n",
       "max    2016.000000     1.000000    55.750000     1.000000        1.000000   \n",
       "\n",
       "       exec_recent  lead_recent         coup  prev_conflict  nat_resources  \\\n",
       "count  5138.000000  5138.000000  5138.000000    5138.000000    4150.000000   \n",
       "mean      0.156286     0.292332     0.020631       2.157649       7.211303   \n",
       "std       0.363162     0.454878     0.142158       7.079684      11.526182   \n",
       "min       0.000000     0.000000     0.000000       0.000000       0.000000   \n",
       "25%       0.000000     0.000000     0.000000       0.000000       0.286974   \n",
       "50%       0.000000     0.000000     0.000000       0.000000       2.120725   \n",
       "75%       0.000000     1.000000     0.000000       0.000000       8.740537   \n",
       "max       1.000000     1.000000     1.000000     104.000000      82.589361   \n",
       "\n",
       "       ...  electricity  debt_forgiven     life_exp  mil_spending  \\\n",
       "count  ...  4234.000000   2.691000e+03  4070.000000   3337.000000   \n",
       "mean   ...    74.197527  -1.029608e+08    67.977616      2.384674   \n",
       "std    ...    33.732617   7.862107e+08     9.680143      3.329329   \n",
       "min    ...     0.000000  -2.925860e+10    27.610000      0.000000   \n",
       "25%    ...    50.134729  -4.328000e+06    61.730000      1.094534   \n",
       "50%    ...    94.791840   0.000000e+00    70.217000      1.646952   \n",
       "75%    ...   100.000000   0.000000e+00    75.227707      2.700748   \n",
       "max    ...   100.000000   0.000000e+00    85.417073    117.349823   \n",
       "\n",
       "        sanitation        water          tax  military_pop         rgdpe  \\\n",
       "count  2531.000000  2526.000000  2494.000000   3643.000000  3.806000e+03   \n",
       "mean     70.980481    83.542215    17.497845      1.557235  3.338019e+05   \n",
       "std      30.773775    19.703826     7.672055      1.792741  1.025757e+06   \n",
       "min       3.150087    16.734686     0.043495      0.000000  1.852567e+02   \n",
       "25%      42.077048    74.875482    12.655118      0.499252  1.336585e+04   \n",
       "50%      85.294692    91.784247    16.998816      1.031299  4.675649e+04   \n",
       "75%      97.679045    99.208811    22.155642      1.824027  2.392072e+05   \n",
       "max     100.000000   100.000000    62.858611     34.697000  1.754609e+07   \n",
       "\n",
       "                hc  \n",
       "count  3258.000000  \n",
       "mean      2.370840  \n",
       "std       0.690561  \n",
       "min       1.029605  \n",
       "25%       1.784048  \n",
       "50%       2.417113  \n",
       "75%       2.929119  \n",
       "max       3.809064  \n",
       "\n",
       "[8 rows x 25 columns]"
      ]
     },
     "execution_count": 5,
     "metadata": {},
     "output_type": "execute_result"
    }
   ],
   "source": [
    "df.describe()"
   ]
  },
  {
   "cell_type": "markdown",
   "metadata": {},
   "source": [
    "### Split training and test data"
   ]
  },
  {
   "cell_type": "code",
   "execution_count": 6,
   "metadata": {},
   "outputs": [],
   "source": [
    "# Create feature matrix (X) and target vector (y)\n",
    "y = df['coup']\n",
    "X = df.drop(['year', 'coup', 'country'], axis=1)\n",
    "\n",
    "\n",
    "# Split the data into training and test sets\n",
    "X_train, X_test, y_train, y_test = train_test_split(X, y, test_size=.2, random_state=13, stratify=y)"
   ]
  },
  {
   "cell_type": "code",
   "execution_count": 7,
   "metadata": {},
   "outputs": [
    {
     "name": "stdout",
     "output_type": "stream",
     "text": [
      "<class 'pandas.core.frame.DataFrame'>\n",
      "Int64Index: 4110 entries, 4484 to 3754\n",
      "Data columns (total 23 columns):\n",
      "mil_career        4110 non-null int64\n",
      "tenure            4110 non-null float64\n",
      "exec_ant          4110 non-null int64\n",
      "irreg_lead_ant    4110 non-null int64\n",
      "exec_recent       4110 non-null int64\n",
      "lead_recent       4110 non-null int64\n",
      "prev_conflict     4110 non-null int64\n",
      "nat_resources     3313 non-null float64\n",
      "food_scarcity     1809 non-null float64\n",
      "education         1736 non-null float64\n",
      "healthcare        1899 non-null float64\n",
      "reserves          1825 non-null float64\n",
      "revenue           1980 non-null float64\n",
      "electricity       3387 non-null float64\n",
      "debt_forgiven     2135 non-null float64\n",
      "life_exp          3250 non-null float64\n",
      "mil_spending      2659 non-null float64\n",
      "sanitation        2009 non-null float64\n",
      "water             2006 non-null float64\n",
      "tax               1991 non-null float64\n",
      "military_pop      2904 non-null float64\n",
      "rgdpe             3023 non-null float64\n",
      "hc                2589 non-null float64\n",
      "dtypes: float64(17), int64(6)\n",
      "memory usage: 770.6 KB\n"
     ]
    }
   ],
   "source": [
    "X_train.info()"
   ]
  },
  {
   "cell_type": "markdown",
   "metadata": {},
   "source": [
    "### Impute with Mean"
   ]
  },
  {
   "cell_type": "code",
   "execution_count": 8,
   "metadata": {},
   "outputs": [],
   "source": [
    "imputer = Imputer(strategy='mean', axis=0)\n",
    "imputer.fit(X_train)\n",
    "train_mean = imputer.transform(X_train)\n",
    "\n",
    "# filepath = '/Users/tim/src/Metis/Project_3/data/interim/train_mean.pkl'\n",
    "# with open(filepath, 'wb') as pkl:\n",
    "#     pickle.dump(train_mean, pkl)"
   ]
  },
  {
   "cell_type": "code",
   "execution_count": 9,
   "metadata": {},
   "outputs": [
    {
     "data": {
      "text/plain": [
       "(4110, 23)"
      ]
     },
     "execution_count": 9,
     "metadata": {},
     "output_type": "execute_result"
    }
   ],
   "source": [
    "train_mean.shape"
   ]
  },
  {
   "cell_type": "code",
   "execution_count": 13,
   "metadata": {},
   "outputs": [],
   "source": [
    "imputer = Imputer(strategy='mean', axis=0)\n",
    "imputer.fit(X_train)\n",
    "test_mean = imputer.transform(X_test)\n",
    "\n",
    "# filepath = /Users/tim/src/Metis/Project_3/data/interim/train_mean.pkl'\n",
    "# with open(filepath, 'wb') as pkl:\n",
    "#     pickle.dump(test_mean, pkl)"
   ]
  },
  {
   "cell_type": "code",
   "execution_count": null,
   "metadata": {},
   "outputs": [],
   "source": [
    "train_mean.shape"
   ]
  },
  {
   "cell_type": "markdown",
   "metadata": {},
   "source": [
    "### Impute with Median"
   ]
  },
  {
   "cell_type": "code",
   "execution_count": 10,
   "metadata": {},
   "outputs": [],
   "source": [
    "imputer2 = Imputer(strategy='median', axis=0)\n",
    "imputer2.fit(X_train)\n",
    "train_median = imputer.transform(X_train)\n",
    "\n",
    "# filepath = '/Users/tim/src/Metis/Project_3/data/interim/train_median.pkl'\n",
    "# with open(filepath, 'wb') as pkl:\n",
    "#     pickle.dump(train_median, pkl)"
   ]
  },
  {
   "cell_type": "code",
   "execution_count": 11,
   "metadata": {},
   "outputs": [
    {
     "data": {
      "text/plain": [
       "(4110, 23)"
      ]
     },
     "execution_count": 11,
     "metadata": {},
     "output_type": "execute_result"
    }
   ],
   "source": [
    "train_median.shape"
   ]
  },
  {
   "cell_type": "markdown",
   "metadata": {},
   "source": [
    "### Future Work to Finish"
   ]
  },
  {
   "cell_type": "markdown",
   "metadata": {},
   "source": [
    "#### Impute with Mean by Country"
   ]
  },
  {
   "cell_type": "code",
   "execution_count": 12,
   "metadata": {},
   "outputs": [],
   "source": [
    "# fill_mean = X_train.groupby('country').mean().reset_index()\n",
    "\n",
    "# train_mean_grouped = impute_all_the_things(X_train, fill_mean)\n",
    "\n",
    "# filepath = '/Users/tim/src/Metis/Project_3/data/interim/train_mean_grouped.pkl'\n",
    "# with open(filepath, 'wb') as pkl:\n",
    "#     pickle.dump(train_mean_grouped, pkl)"
   ]
  },
  {
   "cell_type": "code",
   "execution_count": 13,
   "metadata": {},
   "outputs": [],
   "source": [
    "#train_mean_grouped.info()"
   ]
  },
  {
   "cell_type": "markdown",
   "metadata": {},
   "source": [
    "#### Aggregate Similar Data"
   ]
  },
  {
   "cell_type": "code",
   "execution_count": 1,
   "metadata": {},
   "outputs": [],
   "source": [
    "def impute_all_the_things(df, fill_in):\n",
    "    merged = pd.merge(df, fill_in, left_on='country', right_on='country')\n",
    "    col_to_replace = [c for c in merged.columns if c.endswith('_x')]\n",
    "    for col in col_to_replace:\n",
    "        col_replace_with = col[:-2] + '_y'\n",
    "        merged[col].fillna(merged[col_replace_with], inplace=True)\n",
    "        merged.drop(col_replace_with, axis=1, inplace=True)\n",
    "        merged.rename(columns={col: col[:-2]}, inplace=True)\n",
    "    return merged"
   ]
  },
  {
   "cell_type": "code",
   "execution_count": 16,
   "metadata": {},
   "outputs": [],
   "source": [
    "# df_by_country =  df.groupby(['country'])"
   ]
  },
  {
   "cell_type": "code",
   "execution_count": 17,
   "metadata": {},
   "outputs": [
    {
     "ename": "ValueError",
     "evalue": "could not convert string to float: 'Afghanistan'",
     "output_type": "error",
     "traceback": [
      "\u001b[0;31m-------------------------------------------------------------------------\u001b[0m",
      "\u001b[0;31mValueError\u001b[0m                              Traceback (most recent call last)",
      "\u001b[0;32m<ipython-input-17-68f4cb29cd9b>\u001b[0m in \u001b[0;36m<module>\u001b[0;34m\u001b[0m\n\u001b[1;32m      3\u001b[0m \u001b[0;31m# Development Index\u001b[0m\u001b[0;34m\u001b[0m\u001b[0;34m\u001b[0m\u001b[0;34m\u001b[0m\u001b[0m\n\u001b[1;32m      4\u001b[0m \u001b[0mdf_dev\u001b[0m \u001b[0;34m=\u001b[0m \u001b[0mdf_by_country\u001b[0m\u001b[0;34m[\u001b[0m\u001b[0;34m[\u001b[0m\u001b[0;34m'electricity'\u001b[0m\u001b[0;34m,\u001b[0m \u001b[0;34m'water'\u001b[0m\u001b[0;34m,\u001b[0m \u001b[0;34m'sanitation'\u001b[0m\u001b[0;34m,\u001b[0m \u001b[0;34m'life_exp'\u001b[0m\u001b[0;34m]\u001b[0m\u001b[0;34m]\u001b[0m\u001b[0;34m\u001b[0m\u001b[0;34m\u001b[0m\u001b[0m\n\u001b[0;32m----> 5\u001b[0;31m \u001b[0mdev_scaled\u001b[0m \u001b[0;34m=\u001b[0m \u001b[0mscaler\u001b[0m\u001b[0;34m.\u001b[0m\u001b[0mfit_transform\u001b[0m\u001b[0;34m(\u001b[0m\u001b[0mdf_dev\u001b[0m\u001b[0;34m)\u001b[0m\u001b[0;34m\u001b[0m\u001b[0;34m\u001b[0m\u001b[0m\n\u001b[0m\u001b[1;32m      6\u001b[0m \u001b[0mfull_dev\u001b[0m \u001b[0;34m=\u001b[0m \u001b[0mdf_dev\u001b[0m\u001b[0;34m.\u001b[0m\u001b[0mnotnull\u001b[0m\u001b[0;34m(\u001b[0m\u001b[0;34m)\u001b[0m\u001b[0;34m.\u001b[0m\u001b[0msum\u001b[0m\u001b[0;34m(\u001b[0m\u001b[0maxis\u001b[0m\u001b[0;34m=\u001b[0m\u001b[0;36m1\u001b[0m\u001b[0;34m)\u001b[0m\u001b[0;34m\u001b[0m\u001b[0;34m\u001b[0m\u001b[0m\n\u001b[1;32m      7\u001b[0m \u001b[0mdf_dev\u001b[0m\u001b[0;34m.\u001b[0m\u001b[0mfillna\u001b[0m\u001b[0;34m(\u001b[0m\u001b[0;36m0\u001b[0m\u001b[0;34m,\u001b[0m \u001b[0minplace\u001b[0m\u001b[0;34m=\u001b[0m\u001b[0;32mTrue\u001b[0m\u001b[0;34m)\u001b[0m\u001b[0;34m\u001b[0m\u001b[0;34m\u001b[0m\u001b[0m\n",
      "\u001b[0;32m/anaconda3/lib/python3.7/site-packages/sklearn/base.py\u001b[0m in \u001b[0;36mfit_transform\u001b[0;34m(self, X, y, **fit_params)\u001b[0m\n\u001b[1;32m    515\u001b[0m         \u001b[0;32mif\u001b[0m \u001b[0my\u001b[0m \u001b[0;32mis\u001b[0m \u001b[0;32mNone\u001b[0m\u001b[0;34m:\u001b[0m\u001b[0;34m\u001b[0m\u001b[0;34m\u001b[0m\u001b[0m\n\u001b[1;32m    516\u001b[0m             \u001b[0;31m# fit method of arity 1 (unsupervised transformation)\u001b[0m\u001b[0;34m\u001b[0m\u001b[0;34m\u001b[0m\u001b[0;34m\u001b[0m\u001b[0m\n\u001b[0;32m--> 517\u001b[0;31m             \u001b[0;32mreturn\u001b[0m \u001b[0mself\u001b[0m\u001b[0;34m.\u001b[0m\u001b[0mfit\u001b[0m\u001b[0;34m(\u001b[0m\u001b[0mX\u001b[0m\u001b[0;34m,\u001b[0m \u001b[0;34m**\u001b[0m\u001b[0mfit_params\u001b[0m\u001b[0;34m)\u001b[0m\u001b[0;34m.\u001b[0m\u001b[0mtransform\u001b[0m\u001b[0;34m(\u001b[0m\u001b[0mX\u001b[0m\u001b[0;34m)\u001b[0m\u001b[0;34m\u001b[0m\u001b[0;34m\u001b[0m\u001b[0m\n\u001b[0m\u001b[1;32m    518\u001b[0m         \u001b[0;32melse\u001b[0m\u001b[0;34m:\u001b[0m\u001b[0;34m\u001b[0m\u001b[0;34m\u001b[0m\u001b[0m\n\u001b[1;32m    519\u001b[0m             \u001b[0;31m# fit method of arity 2 (supervised transformation)\u001b[0m\u001b[0;34m\u001b[0m\u001b[0;34m\u001b[0m\u001b[0;34m\u001b[0m\u001b[0m\n",
      "\u001b[0;32m/anaconda3/lib/python3.7/site-packages/sklearn/preprocessing/data.py\u001b[0m in \u001b[0;36mfit\u001b[0;34m(self, X, y)\u001b[0m\n\u001b[1;32m    588\u001b[0m         \u001b[0;31m# Reset internal state before fitting\u001b[0m\u001b[0;34m\u001b[0m\u001b[0;34m\u001b[0m\u001b[0;34m\u001b[0m\u001b[0m\n\u001b[1;32m    589\u001b[0m         \u001b[0mself\u001b[0m\u001b[0;34m.\u001b[0m\u001b[0m_reset\u001b[0m\u001b[0;34m(\u001b[0m\u001b[0;34m)\u001b[0m\u001b[0;34m\u001b[0m\u001b[0;34m\u001b[0m\u001b[0m\n\u001b[0;32m--> 590\u001b[0;31m         \u001b[0;32mreturn\u001b[0m \u001b[0mself\u001b[0m\u001b[0;34m.\u001b[0m\u001b[0mpartial_fit\u001b[0m\u001b[0;34m(\u001b[0m\u001b[0mX\u001b[0m\u001b[0;34m,\u001b[0m \u001b[0my\u001b[0m\u001b[0;34m)\u001b[0m\u001b[0;34m\u001b[0m\u001b[0;34m\u001b[0m\u001b[0m\n\u001b[0m\u001b[1;32m    591\u001b[0m \u001b[0;34m\u001b[0m\u001b[0m\n\u001b[1;32m    592\u001b[0m     \u001b[0;32mdef\u001b[0m \u001b[0mpartial_fit\u001b[0m\u001b[0;34m(\u001b[0m\u001b[0mself\u001b[0m\u001b[0;34m,\u001b[0m \u001b[0mX\u001b[0m\u001b[0;34m,\u001b[0m \u001b[0my\u001b[0m\u001b[0;34m=\u001b[0m\u001b[0;32mNone\u001b[0m\u001b[0;34m)\u001b[0m\u001b[0;34m:\u001b[0m\u001b[0;34m\u001b[0m\u001b[0;34m\u001b[0m\u001b[0m\n",
      "\u001b[0;32m/anaconda3/lib/python3.7/site-packages/sklearn/preprocessing/data.py\u001b[0m in \u001b[0;36mpartial_fit\u001b[0;34m(self, X, y)\u001b[0m\n\u001b[1;32m    610\u001b[0m         \"\"\"\n\u001b[1;32m    611\u001b[0m         X = check_array(X, accept_sparse=('csr', 'csc'), copy=self.copy,\n\u001b[0;32m--> 612\u001b[0;31m                         warn_on_dtype=True, estimator=self, dtype=FLOAT_DTYPES)\n\u001b[0m\u001b[1;32m    613\u001b[0m \u001b[0;34m\u001b[0m\u001b[0m\n\u001b[1;32m    614\u001b[0m         \u001b[0;31m# Even in the case of `with_mean=False`, we update the mean anyway\u001b[0m\u001b[0;34m\u001b[0m\u001b[0;34m\u001b[0m\u001b[0;34m\u001b[0m\u001b[0m\n",
      "\u001b[0;32m/anaconda3/lib/python3.7/site-packages/sklearn/utils/validation.py\u001b[0m in \u001b[0;36mcheck_array\u001b[0;34m(array, accept_sparse, dtype, order, copy, force_all_finite, ensure_2d, allow_nd, ensure_min_samples, ensure_min_features, warn_on_dtype, estimator)\u001b[0m\n\u001b[1;32m    431\u001b[0m                                       force_all_finite)\n\u001b[1;32m    432\u001b[0m     \u001b[0;32melse\u001b[0m\u001b[0;34m:\u001b[0m\u001b[0;34m\u001b[0m\u001b[0;34m\u001b[0m\u001b[0m\n\u001b[0;32m--> 433\u001b[0;31m         \u001b[0marray\u001b[0m \u001b[0;34m=\u001b[0m \u001b[0mnp\u001b[0m\u001b[0;34m.\u001b[0m\u001b[0marray\u001b[0m\u001b[0;34m(\u001b[0m\u001b[0marray\u001b[0m\u001b[0;34m,\u001b[0m \u001b[0mdtype\u001b[0m\u001b[0;34m=\u001b[0m\u001b[0mdtype\u001b[0m\u001b[0;34m,\u001b[0m \u001b[0morder\u001b[0m\u001b[0;34m=\u001b[0m\u001b[0morder\u001b[0m\u001b[0;34m,\u001b[0m \u001b[0mcopy\u001b[0m\u001b[0;34m=\u001b[0m\u001b[0mcopy\u001b[0m\u001b[0;34m)\u001b[0m\u001b[0;34m\u001b[0m\u001b[0;34m\u001b[0m\u001b[0m\n\u001b[0m\u001b[1;32m    434\u001b[0m \u001b[0;34m\u001b[0m\u001b[0m\n\u001b[1;32m    435\u001b[0m         \u001b[0;32mif\u001b[0m \u001b[0mensure_2d\u001b[0m\u001b[0;34m:\u001b[0m\u001b[0;34m\u001b[0m\u001b[0;34m\u001b[0m\u001b[0m\n",
      "\u001b[0;31mValueError\u001b[0m: could not convert string to float: 'Afghanistan'"
     ]
    }
   ],
   "source": [
    "# scaler = StandardScaler()\n",
    "\n",
    "# # Development Index\n",
    "# df_dev = df_by_country[['electricity', 'water', 'sanitation', 'life_exp']]\n",
    "# dev_scaled = scaler.fit_transform(df_dev)\n",
    "# full_dev = df_dev.notnull().sum(axis=1)\n",
    "# df_dev.fillna(0, inplace=True)\n",
    "# df_by_country['dev_index'] = (dev_scaled['electricity'] + dev_scaled['water'] + dev_scaled['sanitation'])/full_dev\n",
    "\n",
    "# # Military Focus\n",
    "# df_mil = df_by_country[['military_pop', 'mil_spending']]\n",
    "# mil_scaled = scaler.fit_transform(df_mil)\n",
    "# full_mil = df_mil.notnull().sum(axis=1)\n",
    "# df_mil.fillna(0, inplace=True)\n",
    "# df_by_country['mil_index'] = (mil_scaled['military_pop'] + mil_scaled['mil_spending'])/full_mil"
   ]
  },
  {
   "cell_type": "code",
   "execution_count": null,
   "metadata": {},
   "outputs": [],
   "source": [
    "# # Development Index\n",
    "# df_dev = df[['country', 'year', 'electricity', 'water', 'sanitation']]\n",
    "# full = df_dev.notnull().sum(axis=1) - 2\n",
    "# df_dev.fillna(0, inplace=True)\n",
    "# df['dev_index'] = (df_dev['electricity'] + df_dev['water'] + df_dev['sanitation'])/full\n",
    "\n",
    "# # Government Money\n",
    "# df_mon = df[['tax', 'revenue']]\n",
    "# full_mon = df_mon.notnull().sum(axis=1)\n",
    "# df_mon.fillna(0, inplace=True)\n",
    "# df['mon_index'] = (df_mon['tax'] + df_mon['revenue'])/full_mon"
   ]
  },
  {
   "cell_type": "code",
   "execution_count": null,
   "metadata": {},
   "outputs": [],
   "source": []
  }
 ],
 "metadata": {
  "kernelspec": {
   "display_name": "Python 3",
   "language": "python",
   "name": "python3"
  },
  "language_info": {
   "codemirror_mode": {
    "name": "ipython",
    "version": 3
   },
   "file_extension": ".py",
   "mimetype": "text/x-python",
   "name": "python",
   "nbconvert_exporter": "python",
   "pygments_lexer": "ipython3",
   "version": "3.7.3"
  },
  "toc": {
   "base_numbering": 1,
   "nav_menu": {},
   "number_sections": true,
   "sideBar": true,
   "skip_h1_title": false,
   "title_cell": "Table of Contents",
   "title_sidebar": "Contents",
   "toc_cell": false,
   "toc_position": {},
   "toc_section_display": true,
   "toc_window_display": false
  },
  "varInspector": {
   "cols": {
    "lenName": 16,
    "lenType": 16,
    "lenVar": 40
   },
   "kernels_config": {
    "python": {
     "delete_cmd_postfix": "",
     "delete_cmd_prefix": "del ",
     "library": "var_list.py",
     "varRefreshCmd": "print(var_dic_list())"
    },
    "r": {
     "delete_cmd_postfix": ") ",
     "delete_cmd_prefix": "rm(",
     "library": "var_list.r",
     "varRefreshCmd": "cat(var_dic_list()) "
    }
   },
   "types_to_exclude": [
    "module",
    "function",
    "builtin_function_or_method",
    "instance",
    "_Feature"
   ],
   "window_display": false
  }
 },
 "nbformat": 4,
 "nbformat_minor": 2
}
