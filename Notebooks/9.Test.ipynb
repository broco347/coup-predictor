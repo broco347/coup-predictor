{
 "cells": [
  {
   "cell_type": "markdown",
   "metadata": {},
   "source": [
    "### Import Modules"
   ]
  },
  {
   "cell_type": "code",
   "execution_count": 2,
   "metadata": {},
   "outputs": [
    {
     "name": "stderr",
     "output_type": "stream",
     "text": [
      "/Users/tim/src/Metis/Project_3/Notebooks/common6.py:50: DataConversionWarning: Data with input dtype int64, float64 were all converted to float64 by StandardScaler.\n",
      "  X_test_scaled = mean_scale.transform(X_test)\n"
     ]
    }
   ],
   "source": [
    "import  matplotlib as mpl\n",
    "import matplotlib.pyplot as plt\n",
    "import seaborn as sns\n",
    "import sklearn.metrics as metrics\n",
    "import numpy as np\n",
    "import pickle\n",
    "\n",
    "from common6 import file_exists, record_results\n",
    "from common6 import test_mean, y_test, X_resampled_mean, y_resampled\n",
    "from sklearn.metrics import confusion_matrix, classification_report, roc_auc_score, roc_curve, auc\n",
    "from sklearn.metrics import confusion_matrix\n",
    "from sklearn.model_selection import train_test_split, KFold\n",
    "#from sklearn.linear_model import LogisticRegression\n",
    "from sklearn.ensemble import GradientBoostingClassifier"
   ]
  },
  {
   "cell_type": "markdown",
   "metadata": {},
   "source": [
    "### Locate Best Model"
   ]
  },
  {
   "cell_type": "code",
   "execution_count": 3,
   "metadata": {},
   "outputs": [],
   "source": [
    "filepath = '/Users/tim/src/Metis/Project_3/models/records/model_history2.pkl'\n",
    "with open(filepath, 'rb') as pkl:\n",
    "    rec = pickle.load(pkl)"
   ]
  },
  {
   "cell_type": "code",
   "execution_count": 4,
   "metadata": {},
   "outputs": [
    {
     "data": {
      "text/html": [
       "<div>\n",
       "<style scoped>\n",
       "    .dataframe tbody tr th:only-of-type {\n",
       "        vertical-align: middle;\n",
       "    }\n",
       "\n",
       "    .dataframe tbody tr th {\n",
       "        vertical-align: top;\n",
       "    }\n",
       "\n",
       "    .dataframe thead th {\n",
       "        text-align: right;\n",
       "    }\n",
       "</style>\n",
       "<table border=\"1\" class=\"dataframe\">\n",
       "  <thead>\n",
       "    <tr style=\"text-align: right;\">\n",
       "      <th></th>\n",
       "      <th>Model</th>\n",
       "      <th>Hyperparameters</th>\n",
       "      <th>Target</th>\n",
       "      <th>Features</th>\n",
       "      <th>Observations</th>\n",
       "      <th>Train Balance</th>\n",
       "      <th>Train_AUC</th>\n",
       "      <th>CV_AUC</th>\n",
       "      <th>Notes</th>\n",
       "    </tr>\n",
       "  </thead>\n",
       "  <tbody>\n",
       "    <tr>\n",
       "      <th>0</th>\n",
       "      <td>Logistic Regression</td>\n",
       "      <td>{'C': 0.01, 'penalty': 'l2', 'random_state': 200}</td>\n",
       "      <td>coup</td>\n",
       "      <td>23</td>\n",
       "      <td>4110</td>\n",
       "      <td>{0: 4025, 1: 85}</td>\n",
       "      <td>0.894510</td>\n",
       "      <td>0.860350</td>\n",
       "      <td>Round 1: Missing data imputed with global mean...</td>\n",
       "    </tr>\n",
       "    <tr>\n",
       "      <th>1</th>\n",
       "      <td>Logistic Regression</td>\n",
       "      <td>{'C': 0.1, 'penalty': 'l1', 'random_state': 200}</td>\n",
       "      <td>coup</td>\n",
       "      <td>23</td>\n",
       "      <td>8050</td>\n",
       "      <td>{0: 4025, 1: 4025}</td>\n",
       "      <td>0.875720</td>\n",
       "      <td>0.873960</td>\n",
       "      <td>Round 2: Missing data imputed with global mean...</td>\n",
       "    </tr>\n",
       "    <tr>\n",
       "      <th>2</th>\n",
       "      <td>Logistic Regression</td>\n",
       "      <td>{'C': 0.1, 'penalty': 'l2', 'random_state': 200}</td>\n",
       "      <td>coup</td>\n",
       "      <td>23</td>\n",
       "      <td>8050</td>\n",
       "      <td>{0: 4025, 1: 4025}</td>\n",
       "      <td>0.882110</td>\n",
       "      <td>0.880260</td>\n",
       "      <td>Round 3: Missing data imputed with global mean...</td>\n",
       "    </tr>\n",
       "    <tr>\n",
       "      <th>3</th>\n",
       "      <td>Logistic Regression</td>\n",
       "      <td>{'C': 0.001, 'penalty': 'l2', 'random_state': ...</td>\n",
       "      <td>coup</td>\n",
       "      <td>23</td>\n",
       "      <td>8061</td>\n",
       "      <td>{0: 4025, 1: 4036}</td>\n",
       "      <td>0.853870</td>\n",
       "      <td>0.823550</td>\n",
       "      <td>Round 4: Missing data imputed with global mean...</td>\n",
       "    </tr>\n",
       "    <tr>\n",
       "      <th>4</th>\n",
       "      <td>Logistic Regression</td>\n",
       "      <td>{'C': 0.01, 'penalty': 'l2', 'random_state': 200}</td>\n",
       "      <td>coup</td>\n",
       "      <td>23</td>\n",
       "      <td>4110</td>\n",
       "      <td>{0: 4025, 1: 85}</td>\n",
       "      <td>0.860350</td>\n",
       "      <td>0.843267</td>\n",
       "      <td>Round 5: Missing data imputed with global medi...</td>\n",
       "    </tr>\n",
       "    <tr>\n",
       "      <th>5</th>\n",
       "      <td>Decision Tree</td>\n",
       "      <td>{'criterion': 'entropy', 'max_depth': 5, 'min_...</td>\n",
       "      <td>coup</td>\n",
       "      <td>23</td>\n",
       "      <td>4110</td>\n",
       "      <td>{0: 4025, 1: 85}</td>\n",
       "      <td>0.876640</td>\n",
       "      <td>0.814810</td>\n",
       "      <td>Round 1: Missing data imputed with global mean...</td>\n",
       "    </tr>\n",
       "    <tr>\n",
       "      <th>6</th>\n",
       "      <td>Decision Tree</td>\n",
       "      <td>{'criterion': 'gini', 'max_depth': 5, 'min_sam...</td>\n",
       "      <td>coup</td>\n",
       "      <td>23</td>\n",
       "      <td>8050</td>\n",
       "      <td>{0: 4025, 1: 4025}</td>\n",
       "      <td>0.911870</td>\n",
       "      <td>0.918860</td>\n",
       "      <td>Round 2: Missing data imputed with global mean...</td>\n",
       "    </tr>\n",
       "    <tr>\n",
       "      <th>7</th>\n",
       "      <td>Decision Tree</td>\n",
       "      <td>{'criterion': 'gini', 'max_depth': 5, 'min_sam...</td>\n",
       "      <td>coup</td>\n",
       "      <td>23</td>\n",
       "      <td>8050</td>\n",
       "      <td>{0: 4025, 1: 4025}</td>\n",
       "      <td>0.935240</td>\n",
       "      <td>0.930220</td>\n",
       "      <td>Round 3: Missing data imputed with global mean...</td>\n",
       "    </tr>\n",
       "    <tr>\n",
       "      <th>8</th>\n",
       "      <td>Decision Tree</td>\n",
       "      <td>{'criterion': 'gini', 'max_depth': 5, 'min_sam...</td>\n",
       "      <td>coup</td>\n",
       "      <td>23</td>\n",
       "      <td>8061</td>\n",
       "      <td>{0: 4025, 1: 4036}</td>\n",
       "      <td>0.902180</td>\n",
       "      <td>0.854010</td>\n",
       "      <td>Round 4: Missing data imputed with global mean...</td>\n",
       "    </tr>\n",
       "    <tr>\n",
       "      <th>9</th>\n",
       "      <td>Decision Tree</td>\n",
       "      <td>{'criterion': 'entropy', 'max_depth': 5, 'min_...</td>\n",
       "      <td>coup</td>\n",
       "      <td>23</td>\n",
       "      <td>4110</td>\n",
       "      <td>{0: 4025, 1: 85}</td>\n",
       "      <td>0.876640</td>\n",
       "      <td>0.814810</td>\n",
       "      <td>Round 5: Missing data imputed with global medi...</td>\n",
       "    </tr>\n",
       "    <tr>\n",
       "      <th>10</th>\n",
       "      <td>Gradient Boosting</td>\n",
       "      <td>{'learning_rate': 0.02, 'max_depth': 3, 'n_est...</td>\n",
       "      <td>coup</td>\n",
       "      <td>23</td>\n",
       "      <td>4110</td>\n",
       "      <td>{0: 4025, 1: 85}</td>\n",
       "      <td>0.973399</td>\n",
       "      <td>0.831625</td>\n",
       "      <td>Round 1: Missing data imputed with global mean...</td>\n",
       "    </tr>\n",
       "    <tr>\n",
       "      <th>11</th>\n",
       "      <td>Bagging</td>\n",
       "      <td>{'bootstrap': False, 'max_features': 6, 'max_s...</td>\n",
       "      <td>coup</td>\n",
       "      <td>23</td>\n",
       "      <td>(4110,)</td>\n",
       "      <td>{0: 4025, 1: 85}</td>\n",
       "      <td>0.955437</td>\n",
       "      <td>0.829117</td>\n",
       "      <td>Round 1: Missing data imputed with global mean...</td>\n",
       "    </tr>\n",
       "    <tr>\n",
       "      <th>12</th>\n",
       "      <td>Bagging</td>\n",
       "      <td>{'bootstrap': False, 'max_features': 15, 'max_...</td>\n",
       "      <td>coup</td>\n",
       "      <td>23</td>\n",
       "      <td>(8050,)</td>\n",
       "      <td>{0: 4025, 1: 4025}</td>\n",
       "      <td>0.998049</td>\n",
       "      <td>0.997005</td>\n",
       "      <td>Round 2: Missing data imputed with global mean...</td>\n",
       "    </tr>\n",
       "    <tr>\n",
       "      <th>13</th>\n",
       "      <td>Gradient Boosting</td>\n",
       "      <td>{'learning_rate': 0.04, 'max_depth': 7, 'n_est...</td>\n",
       "      <td>coup</td>\n",
       "      <td>23</td>\n",
       "      <td>(8050,)</td>\n",
       "      <td>{0: 4025, 1: 4025}</td>\n",
       "      <td>0.999947</td>\n",
       "      <td>0.999437</td>\n",
       "      <td>Round 2: Missing data imputed with global mean...</td>\n",
       "    </tr>\n",
       "    <tr>\n",
       "      <th>14</th>\n",
       "      <td>Bagging</td>\n",
       "      <td>{'bootstrap': False, 'max_features': 10, 'max_...</td>\n",
       "      <td>coup</td>\n",
       "      <td>23</td>\n",
       "      <td>(8050,)</td>\n",
       "      <td>{0: 4025, 1: 4025}</td>\n",
       "      <td>0.988690</td>\n",
       "      <td>0.985494</td>\n",
       "      <td>Round 3: Missing data imputed with global mean...</td>\n",
       "    </tr>\n",
       "    <tr>\n",
       "      <th>15</th>\n",
       "      <td>Bagging</td>\n",
       "      <td>{'bootstrap': True, 'max_features': 20, 'max_s...</td>\n",
       "      <td>coup</td>\n",
       "      <td>23</td>\n",
       "      <td>(8061,)</td>\n",
       "      <td>{0: 4025, 1: 4036}</td>\n",
       "      <td>0.991649</td>\n",
       "      <td>0.926339</td>\n",
       "      <td>Round 4: Missing data imputed with global mean...</td>\n",
       "    </tr>\n",
       "    <tr>\n",
       "      <th>16</th>\n",
       "      <td>Gradient Boosting</td>\n",
       "      <td>{'learning_rate': 0.04, 'max_depth': 7, 'n_est...</td>\n",
       "      <td>coup</td>\n",
       "      <td>23</td>\n",
       "      <td>(8050,)</td>\n",
       "      <td>{0: 4025, 1: 4025}</td>\n",
       "      <td>0.999981</td>\n",
       "      <td>0.998436</td>\n",
       "      <td>Round 3: Missing data imputed with global mean...</td>\n",
       "    </tr>\n",
       "    <tr>\n",
       "      <th>17</th>\n",
       "      <td>Gradient Boosting</td>\n",
       "      <td>{'learning_rate': 0.04, 'max_depth': 7, 'n_est...</td>\n",
       "      <td>coup</td>\n",
       "      <td>23</td>\n",
       "      <td>(8061,)</td>\n",
       "      <td>{0: 4025, 1: 4036}</td>\n",
       "      <td>0.999946</td>\n",
       "      <td>0.977731</td>\n",
       "      <td>Round 4: Missing data imputed with global mean...</td>\n",
       "    </tr>\n",
       "    <tr>\n",
       "      <th>18</th>\n",
       "      <td>K-Nearest Neighbors</td>\n",
       "      <td>{'algorithm': 'auto', 'leaf_size': 60, 'n_neig...</td>\n",
       "      <td>coup</td>\n",
       "      <td>23</td>\n",
       "      <td>(4110,)</td>\n",
       "      <td>{0: 4025, 1: 85}</td>\n",
       "      <td>0.931071</td>\n",
       "      <td>0.771356</td>\n",
       "      <td>Round 1: Missing data imputed with global mean...</td>\n",
       "    </tr>\n",
       "    <tr>\n",
       "      <th>19</th>\n",
       "      <td>K-Nearest Neighbors</td>\n",
       "      <td>{'algorithm': 'brute', 'leaf_size': 5, 'n_neig...</td>\n",
       "      <td>coup</td>\n",
       "      <td>23</td>\n",
       "      <td>(8050,)</td>\n",
       "      <td>{0: 4025, 1: 4025}</td>\n",
       "      <td>0.998634</td>\n",
       "      <td>0.988303</td>\n",
       "      <td>Round 2: Missing data imputed with global mean...</td>\n",
       "    </tr>\n",
       "    <tr>\n",
       "      <th>20</th>\n",
       "      <td>K-Nearest Neighbors</td>\n",
       "      <td>{'algorithm': 'brute', 'leaf_size': 5, 'n_neig...</td>\n",
       "      <td>coup</td>\n",
       "      <td>23</td>\n",
       "      <td>(8050,)</td>\n",
       "      <td>{0: 4025, 1: 4025}</td>\n",
       "      <td>0.999999</td>\n",
       "      <td>0.983672</td>\n",
       "      <td>Round 3: Missing data imputed with global mean...</td>\n",
       "    </tr>\n",
       "    <tr>\n",
       "      <th>21</th>\n",
       "      <td>K-Nearest Neighbors</td>\n",
       "      <td>{'algorithm': 'ball_tree', 'leaf_size': 20, 'n...</td>\n",
       "      <td>coup</td>\n",
       "      <td>23</td>\n",
       "      <td>(8061,)</td>\n",
       "      <td>{0: 4025, 1: 4036}</td>\n",
       "      <td>0.999999</td>\n",
       "      <td>0.957529</td>\n",
       "      <td>Round 4: Missing data imputed with global mean...</td>\n",
       "    </tr>\n",
       "  </tbody>\n",
       "</table>\n",
       "</div>"
      ],
      "text/plain": [
       "                  Model                                    Hyperparameters  \\\n",
       "0   Logistic Regression  {'C': 0.01, 'penalty': 'l2', 'random_state': 200}   \n",
       "1   Logistic Regression   {'C': 0.1, 'penalty': 'l1', 'random_state': 200}   \n",
       "2   Logistic Regression   {'C': 0.1, 'penalty': 'l2', 'random_state': 200}   \n",
       "3   Logistic Regression  {'C': 0.001, 'penalty': 'l2', 'random_state': ...   \n",
       "4   Logistic Regression  {'C': 0.01, 'penalty': 'l2', 'random_state': 200}   \n",
       "5         Decision Tree  {'criterion': 'entropy', 'max_depth': 5, 'min_...   \n",
       "6         Decision Tree  {'criterion': 'gini', 'max_depth': 5, 'min_sam...   \n",
       "7         Decision Tree  {'criterion': 'gini', 'max_depth': 5, 'min_sam...   \n",
       "8         Decision Tree  {'criterion': 'gini', 'max_depth': 5, 'min_sam...   \n",
       "9         Decision Tree  {'criterion': 'entropy', 'max_depth': 5, 'min_...   \n",
       "10    Gradient Boosting  {'learning_rate': 0.02, 'max_depth': 3, 'n_est...   \n",
       "11              Bagging  {'bootstrap': False, 'max_features': 6, 'max_s...   \n",
       "12              Bagging  {'bootstrap': False, 'max_features': 15, 'max_...   \n",
       "13    Gradient Boosting  {'learning_rate': 0.04, 'max_depth': 7, 'n_est...   \n",
       "14              Bagging  {'bootstrap': False, 'max_features': 10, 'max_...   \n",
       "15              Bagging  {'bootstrap': True, 'max_features': 20, 'max_s...   \n",
       "16    Gradient Boosting  {'learning_rate': 0.04, 'max_depth': 7, 'n_est...   \n",
       "17    Gradient Boosting  {'learning_rate': 0.04, 'max_depth': 7, 'n_est...   \n",
       "18  K-Nearest Neighbors  {'algorithm': 'auto', 'leaf_size': 60, 'n_neig...   \n",
       "19  K-Nearest Neighbors  {'algorithm': 'brute', 'leaf_size': 5, 'n_neig...   \n",
       "20  K-Nearest Neighbors  {'algorithm': 'brute', 'leaf_size': 5, 'n_neig...   \n",
       "21  K-Nearest Neighbors  {'algorithm': 'ball_tree', 'leaf_size': 20, 'n...   \n",
       "\n",
       "   Target Features Observations       Train Balance  Train_AUC    CV_AUC  \\\n",
       "0    coup       23         4110    {0: 4025, 1: 85}   0.894510  0.860350   \n",
       "1    coup       23         8050  {0: 4025, 1: 4025}   0.875720  0.873960   \n",
       "2    coup       23         8050  {0: 4025, 1: 4025}   0.882110  0.880260   \n",
       "3    coup       23         8061  {0: 4025, 1: 4036}   0.853870  0.823550   \n",
       "4    coup       23         4110    {0: 4025, 1: 85}   0.860350  0.843267   \n",
       "5    coup       23         4110    {0: 4025, 1: 85}   0.876640  0.814810   \n",
       "6    coup       23         8050  {0: 4025, 1: 4025}   0.911870  0.918860   \n",
       "7    coup       23         8050  {0: 4025, 1: 4025}   0.935240  0.930220   \n",
       "8    coup       23         8061  {0: 4025, 1: 4036}   0.902180  0.854010   \n",
       "9    coup       23         4110    {0: 4025, 1: 85}   0.876640  0.814810   \n",
       "10   coup       23         4110    {0: 4025, 1: 85}   0.973399  0.831625   \n",
       "11   coup       23      (4110,)    {0: 4025, 1: 85}   0.955437  0.829117   \n",
       "12   coup       23      (8050,)  {0: 4025, 1: 4025}   0.998049  0.997005   \n",
       "13   coup       23      (8050,)  {0: 4025, 1: 4025}   0.999947  0.999437   \n",
       "14   coup       23      (8050,)  {0: 4025, 1: 4025}   0.988690  0.985494   \n",
       "15   coup       23      (8061,)  {0: 4025, 1: 4036}   0.991649  0.926339   \n",
       "16   coup       23      (8050,)  {0: 4025, 1: 4025}   0.999981  0.998436   \n",
       "17   coup       23      (8061,)  {0: 4025, 1: 4036}   0.999946  0.977731   \n",
       "18   coup       23      (4110,)    {0: 4025, 1: 85}   0.931071  0.771356   \n",
       "19   coup       23      (8050,)  {0: 4025, 1: 4025}   0.998634  0.988303   \n",
       "20   coup       23      (8050,)  {0: 4025, 1: 4025}   0.999999  0.983672   \n",
       "21   coup       23      (8061,)  {0: 4025, 1: 4036}   0.999999  0.957529   \n",
       "\n",
       "                                                Notes  \n",
       "0   Round 1: Missing data imputed with global mean...  \n",
       "1   Round 2: Missing data imputed with global mean...  \n",
       "2   Round 3: Missing data imputed with global mean...  \n",
       "3   Round 4: Missing data imputed with global mean...  \n",
       "4   Round 5: Missing data imputed with global medi...  \n",
       "5   Round 1: Missing data imputed with global mean...  \n",
       "6   Round 2: Missing data imputed with global mean...  \n",
       "7   Round 3: Missing data imputed with global mean...  \n",
       "8   Round 4: Missing data imputed with global mean...  \n",
       "9   Round 5: Missing data imputed with global medi...  \n",
       "10  Round 1: Missing data imputed with global mean...  \n",
       "11  Round 1: Missing data imputed with global mean...  \n",
       "12  Round 2: Missing data imputed with global mean...  \n",
       "13  Round 2: Missing data imputed with global mean...  \n",
       "14  Round 3: Missing data imputed with global mean...  \n",
       "15  Round 4: Missing data imputed with global mean...  \n",
       "16  Round 3: Missing data imputed with global mean...  \n",
       "17  Round 4: Missing data imputed with global mean...  \n",
       "18  Round 1: Missing data imputed with global mean...  \n",
       "19  Round 2: Missing data imputed with global mean...  \n",
       "20  Round 3: Missing data imputed with global mean...  \n",
       "21  Round 4: Missing data imputed with global mean...  "
      ]
     },
     "execution_count": 4,
     "metadata": {},
     "output_type": "execute_result"
    }
   ],
   "source": [
    "rec"
   ]
  },
  {
   "cell_type": "code",
   "execution_count": 5,
   "metadata": {},
   "outputs": [
    {
     "data": {
      "text/plain": [
       "{'learning_rate': 0.04,\n",
       " 'max_depth': 7,\n",
       " 'n_estimators': 300,\n",
       " 'random_state': 200}"
      ]
     },
     "execution_count": 5,
     "metadata": {},
     "output_type": "execute_result"
    }
   ],
   "source": [
    "rec.Hyperparameters.iloc[13]"
   ]
  },
  {
   "cell_type": "markdown",
   "metadata": {},
   "source": [
    "### Run Test Data"
   ]
  },
  {
   "cell_type": "code",
   "execution_count": 6,
   "metadata": {},
   "outputs": [],
   "source": [
    "# Instantiate\n",
    "gb = GradientBoostingClassifier(learning_rate= 0.04, max_depth =7, n_estimators = 300, random_state = 200)\n",
    "\n",
    "# Fit\n",
    "gb.fit(X_resampled_mean, y_resampled)\n",
    "\n",
    "#Predict\n",
    "gb_pred = gb.predict(test_mean)"
   ]
  },
  {
   "cell_type": "code",
   "execution_count": 7,
   "metadata": {},
   "outputs": [
    {
     "data": {
      "text/plain": [
       "0.9999470699432892"
      ]
     },
     "execution_count": 7,
     "metadata": {},
     "output_type": "execute_result"
    }
   ],
   "source": [
    "auc = roc_auc_score(y_resampled, gb.predict_proba(X_resampled_mean)[:, 1])\n",
    "auc"
   ]
  },
  {
   "cell_type": "code",
   "execution_count": 8,
   "metadata": {},
   "outputs": [
    {
     "name": "stdout",
     "output_type": "stream",
     "text": [
      "              precision    recall  f1-score   support\n",
      "\n",
      "           0       0.98      1.00      0.99      1007\n",
      "           1       0.00      0.00      0.00        21\n",
      "\n",
      "   micro avg       0.98      0.98      0.98      1028\n",
      "   macro avg       0.49      0.50      0.49      1028\n",
      "weighted avg       0.96      0.98      0.97      1028\n",
      "\n"
     ]
    },
    {
     "name": "stderr",
     "output_type": "stream",
     "text": [
      "/anaconda3/envs/metis/lib/python3.6/site-packages/sklearn/metrics/classification.py:1143: UndefinedMetricWarning: Precision and F-score are ill-defined and being set to 0.0 in labels with no predicted samples.\n",
      "  'precision', 'predicted', average, warn_for)\n",
      "/anaconda3/envs/metis/lib/python3.6/site-packages/sklearn/metrics/classification.py:1143: UndefinedMetricWarning: Precision and F-score are ill-defined and being set to 0.0 in labels with no predicted samples.\n",
      "  'precision', 'predicted', average, warn_for)\n",
      "/anaconda3/envs/metis/lib/python3.6/site-packages/sklearn/metrics/classification.py:1143: UndefinedMetricWarning: Precision and F-score are ill-defined and being set to 0.0 in labels with no predicted samples.\n",
      "  'precision', 'predicted', average, warn_for)\n"
     ]
    }
   ],
   "source": [
    "print(classification_report(y_test,gb_pred))"
   ]
  },
  {
   "cell_type": "markdown",
   "metadata": {},
   "source": [
    "### Plot Confusion Matrix"
   ]
  },
  {
   "cell_type": "code",
   "execution_count": 136,
   "metadata": {},
   "outputs": [
    {
     "data": {
      "image/png": "[encoded data removed]",
      "text/plain": [
       "<Figure size 720x720 with 2 Axes>"
      ]
     },
     "metadata": {
      "needs_background": "light"
     },
     "output_type": "display_data"
    }
   ],
   "source": [
    "confusion = confusion_matrix(y_test, gb_pred)\n",
    "plt.figure(figsize=(10,10))\n",
    "matrix = sns.heatmap(confusion, cmap=plt.cm.Wistia, annot=True, annot_kws={\"size\": 20}, square=True, fmt='g',\n",
    "           xticklabels=['No Coup', 'Coup'],\n",
    "           yticklabels=['No Coup', 'Coup'])\n",
    "plt.xticks(fontsize=15, rotation = 0)\n",
    "plt.yticks(fontsize=15, rotation = 0)\n",
    "plt.xlabel('Predicted', fontsize=15, fontweight=\"bold\", labelpad=20)\n",
    "plt.ylabel('Actual',  fontsize=15, fontweight=\"bold\", rotation=0, labelpad = 50)\n",
    "plt.title('Confusion Matrix:\\nGradient Boosting with Resampling', fontsize = 24, fontweight=\"bold\")\n",
    "\n",
    "matrix = matrix.get_figure()  \n",
    "matrix.savefig(\"rmatrix.png\", format='png', bbox_inches='tight');"
   ]
  },
  {
   "cell_type": "markdown",
   "metadata": {},
   "source": [
    "### Plot ROC Curve"
   ]
  },
  {
   "cell_type": "code",
   "execution_count": 4,
   "metadata": {},
   "outputs": [
    {
     "ename": "NameError",
     "evalue": "name 'gb' is not defined",
     "output_type": "error",
     "traceback": [
      "\u001b[0;31m-------------------------------------------------------------------------\u001b[0m",
      "\u001b[0;31mNameError\u001b[0m                               Traceback (most recent call last)",
      "\u001b[0;32m<ipython-input-4-f1a893d18d4b>\u001b[0m in \u001b[0;36m<module>\u001b[0;34m\u001b[0m\n\u001b[0;32m----> 1\u001b[0;31m \u001b[0mfpr\u001b[0m\u001b[0;34m,\u001b[0m \u001b[0mtpr\u001b[0m\u001b[0;34m,\u001b[0m \u001b[0mthresholds\u001b[0m \u001b[0;34m=\u001b[0m \u001b[0mroc_curve\u001b[0m\u001b[0;34m(\u001b[0m\u001b[0my_test\u001b[0m\u001b[0;34m,\u001b[0m \u001b[0mgb\u001b[0m\u001b[0;34m.\u001b[0m\u001b[0mpredict_proba\u001b[0m\u001b[0;34m(\u001b[0m\u001b[0mtest_mean\u001b[0m\u001b[0;34m)\u001b[0m\u001b[0;34m[\u001b[0m\u001b[0;34m:\u001b[0m\u001b[0;34m,\u001b[0m\u001b[0;36m1\u001b[0m\u001b[0;34m]\u001b[0m\u001b[0;34m)\u001b[0m\u001b[0;34m\u001b[0m\u001b[0;34m\u001b[0m\u001b[0m\n\u001b[0m",
      "\u001b[0;31mNameError\u001b[0m: name 'gb' is not defined"
     ]
    }
   ],
   "source": [
    "fpr, tpr, thresholds = roc_curve(y_test, gb.predict_proba(test_mean)[:,1])"
   ]
  },
  {
   "cell_type": "code",
   "execution_count": 5,
   "metadata": {},
   "outputs": [
    {
     "ename": "NameError",
     "evalue": "name 'fpr' is not defined",
     "output_type": "error",
     "traceback": [
      "\u001b[0;31m-------------------------------------------------------------------------\u001b[0m",
      "\u001b[0;31mNameError\u001b[0m                               Traceback (most recent call last)",
      "\u001b[0;32m<ipython-input-5-ce64e24c3c9f>\u001b[0m in \u001b[0;36m<module>\u001b[0;34m\u001b[0m\n\u001b[1;32m      1\u001b[0m \u001b[0mplt\u001b[0m\u001b[0;34m.\u001b[0m\u001b[0mstyle\u001b[0m\u001b[0;34m.\u001b[0m\u001b[0muse\u001b[0m\u001b[0;34m(\u001b[0m\u001b[0;34m'seaborn-poster'\u001b[0m\u001b[0;34m)\u001b[0m\u001b[0;34m\u001b[0m\u001b[0;34m\u001b[0m\u001b[0m\n\u001b[1;32m      2\u001b[0m \u001b[0mplt\u001b[0m\u001b[0;34m.\u001b[0m\u001b[0mfigure\u001b[0m\u001b[0;34m(\u001b[0m\u001b[0mfigsize\u001b[0m\u001b[0;34m=\u001b[0m\u001b[0;34m(\u001b[0m\u001b[0;36m10\u001b[0m\u001b[0;34m,\u001b[0m\u001b[0;36m10\u001b[0m\u001b[0;34m)\u001b[0m\u001b[0;34m)\u001b[0m\u001b[0;34m\u001b[0m\u001b[0;34m\u001b[0m\u001b[0m\n\u001b[0;32m----> 3\u001b[0;31m \u001b[0mroc_bad\u001b[0m \u001b[0;34m=\u001b[0m \u001b[0mplt\u001b[0m\u001b[0;34m.\u001b[0m\u001b[0mplot\u001b[0m\u001b[0;34m(\u001b[0m\u001b[0mfpr\u001b[0m\u001b[0;34m,\u001b[0m \u001b[0mtpr\u001b[0m\u001b[0;34m,\u001b[0m\u001b[0mlw\u001b[0m\u001b[0;34m=\u001b[0m\u001b[0;36m2\u001b[0m\u001b[0;34m)\u001b[0m\u001b[0;34m\u001b[0m\u001b[0;34m\u001b[0m\u001b[0m\n\u001b[0m\u001b[1;32m      4\u001b[0m \u001b[0;34m\u001b[0m\u001b[0m\n\u001b[1;32m      5\u001b[0m \u001b[0mplt\u001b[0m\u001b[0;34m.\u001b[0m\u001b[0mplot\u001b[0m\u001b[0;34m(\u001b[0m\u001b[0;34m[\u001b[0m\u001b[0;36m0\u001b[0m\u001b[0;34m,\u001b[0m\u001b[0;36m1\u001b[0m\u001b[0;34m]\u001b[0m\u001b[0;34m,\u001b[0m\u001b[0;34m[\u001b[0m\u001b[0;36m0\u001b[0m\u001b[0;34m,\u001b[0m\u001b[0;36m1\u001b[0m\u001b[0;34m]\u001b[0m\u001b[0;34m,\u001b[0m\u001b[0mc\u001b[0m\u001b[0;34m=\u001b[0m\u001b[0;34m'red'\u001b[0m\u001b[0;34m,\u001b[0m\u001b[0mls\u001b[0m\u001b[0;34m=\u001b[0m\u001b[0;34m'--'\u001b[0m\u001b[0;34m)\u001b[0m\u001b[0;34m\u001b[0m\u001b[0;34m\u001b[0m\u001b[0m\n",
      "\u001b[0;31mNameError\u001b[0m: name 'fpr' is not defined"
     ]
    },
    {
     "data": {
      "text/plain": [
       "<Figure size 720x720 with 0 Axes>"
      ]
     },
     "metadata": {},
     "output_type": "display_data"
    }
   ],
   "source": [
    "plt.style.use('seaborn-poster')\n",
    "plt.figure(figsize=(10,10))\n",
    "roc_bad = plt.plot(fpr, tpr,lw=2)\n",
    "\n",
    "plt.plot([0,1],[0,1],c='red',ls='--')\n",
    "plt.xlim([-0.05,1.05])\n",
    "plt.ylim([-0.05,1.05])\n",
    "\n",
    "plt.xlabel('False\\nPositive\\nRate', fontsize=15, fontweight=\"bold\", labelpad=20)\n",
    "plt.ylabel('True\\nPositive\\nRate', fontsize=15, fontweight=\"bold\", rotation=0, labelpad = 50)\n",
    "plt.title('ROC Curve:\\nGradient Boosting with Resampling', fontsize = 24, fontweight=\"bold\")\n",
    "roc_bad = auc.get_figure()  \n",
    "roc_bad.savefig(\"roc_bad.png\", format='png', bbox_inches='tight');"
   ]
  },
  {
   "cell_type": "markdown",
   "metadata": {},
   "source": [
    "### Plot CV AUCs"
   ]
  },
  {
   "cell_type": "code",
   "execution_count": 62,
   "metadata": {},
   "outputs": [],
   "source": [
    "filepath = '/Users/tim/src/Metis/Project_3/models/records/model_history2.pkl'\n",
    "with open(filepath, 'rb') as pkl:\n",
    "    rec = pickle.load(pkl)"
   ]
  },
  {
   "cell_type": "code",
   "execution_count": 63,
   "metadata": {},
   "outputs": [],
   "source": [
    "rec.sort_values(by=['CV_AUC'], ascending=False, inplace=True)\n",
    "rec.reset_index(inplace=True, drop=True)\n",
    "cv_df = rec.groupby('Model').first()\n"
   ]
  },
  {
   "cell_type": "code",
   "execution_count": 64,
   "metadata": {},
   "outputs": [
    {
     "data": {
      "text/html": [
       "<div>\n",
       "<style scoped>\n",
       "    .dataframe tbody tr th:only-of-type {\n",
       "        vertical-align: middle;\n",
       "    }\n",
       "\n",
       "    .dataframe tbody tr th {\n",
       "        vertical-align: top;\n",
       "    }\n",
       "\n",
       "    .dataframe thead th {\n",
       "        text-align: right;\n",
       "    }\n",
       "</style>\n",
       "<table border=\"1\" class=\"dataframe\">\n",
       "  <thead>\n",
       "    <tr style=\"text-align: right;\">\n",
       "      <th></th>\n",
       "      <th>Model</th>\n",
       "      <th>Hyperparameters</th>\n",
       "      <th>Target</th>\n",
       "      <th>Features</th>\n",
       "      <th>Observations</th>\n",
       "      <th>Train Balance</th>\n",
       "      <th>Train_AUC</th>\n",
       "      <th>CV_AUC</th>\n",
       "      <th>Notes</th>\n",
       "    </tr>\n",
       "  </thead>\n",
       "  <tbody>\n",
       "    <tr>\n",
       "      <th>0</th>\n",
       "      <td>Bagging</td>\n",
       "      <td>{'bootstrap': False, 'max_features': 15, 'max_...</td>\n",
       "      <td>coup</td>\n",
       "      <td>23</td>\n",
       "      <td>(8050,)</td>\n",
       "      <td>{0: 4025, 1: 4025}</td>\n",
       "      <td>0.998049</td>\n",
       "      <td>0.997005</td>\n",
       "      <td>Round 2: Missing data imputed with global mean...</td>\n",
       "    </tr>\n",
       "    <tr>\n",
       "      <th>1</th>\n",
       "      <td>Decision Tree</td>\n",
       "      <td>{'criterion': 'gini', 'max_depth': 5, 'min_sam...</td>\n",
       "      <td>coup</td>\n",
       "      <td>23</td>\n",
       "      <td>8050</td>\n",
       "      <td>{0: 4025, 1: 4025}</td>\n",
       "      <td>0.935240</td>\n",
       "      <td>0.930220</td>\n",
       "      <td>Round 3: Missing data imputed with global mean...</td>\n",
       "    </tr>\n",
       "    <tr>\n",
       "      <th>2</th>\n",
       "      <td>Gradient Boosting</td>\n",
       "      <td>{'learning_rate': 0.04, 'max_depth': 7, 'n_est...</td>\n",
       "      <td>coup</td>\n",
       "      <td>23</td>\n",
       "      <td>(8050,)</td>\n",
       "      <td>{0: 4025, 1: 4025}</td>\n",
       "      <td>0.999947</td>\n",
       "      <td>0.999437</td>\n",
       "      <td>Round 2: Missing data imputed with global mean...</td>\n",
       "    </tr>\n",
       "    <tr>\n",
       "      <th>3</th>\n",
       "      <td>K-Nearest Neighbors</td>\n",
       "      <td>{'algorithm': 'brute', 'leaf_size': 5, 'n_neig...</td>\n",
       "      <td>coup</td>\n",
       "      <td>23</td>\n",
       "      <td>(8050,)</td>\n",
       "      <td>{0: 4025, 1: 4025}</td>\n",
       "      <td>0.998634</td>\n",
       "      <td>0.988303</td>\n",
       "      <td>Round 2: Missing data imputed with global mean...</td>\n",
       "    </tr>\n",
       "    <tr>\n",
       "      <th>4</th>\n",
       "      <td>Logistic Regression</td>\n",
       "      <td>{'C': 0.1, 'penalty': 'l2', 'random_state': 200}</td>\n",
       "      <td>coup</td>\n",
       "      <td>23</td>\n",
       "      <td>8050</td>\n",
       "      <td>{0: 4025, 1: 4025}</td>\n",
       "      <td>0.882110</td>\n",
       "      <td>0.880260</td>\n",
       "      <td>Round 3: Missing data imputed with global mean...</td>\n",
       "    </tr>\n",
       "  </tbody>\n",
       "</table>\n",
       "</div>"
      ],
      "text/plain": [
       "                 Model                                    Hyperparameters  \\\n",
       "0              Bagging  {'bootstrap': False, 'max_features': 15, 'max_...   \n",
       "1        Decision Tree  {'criterion': 'gini', 'max_depth': 5, 'min_sam...   \n",
       "2    Gradient Boosting  {'learning_rate': 0.04, 'max_depth': 7, 'n_est...   \n",
       "3  K-Nearest Neighbors  {'algorithm': 'brute', 'leaf_size': 5, 'n_neig...   \n",
       "4  Logistic Regression   {'C': 0.1, 'penalty': 'l2', 'random_state': 200}   \n",
       "\n",
       "  Target  Features Observations       Train Balance  Train_AUC    CV_AUC  \\\n",
       "0   coup        23      (8050,)  {0: 4025, 1: 4025}   0.998049  0.997005   \n",
       "1   coup        23         8050  {0: 4025, 1: 4025}   0.935240  0.930220   \n",
       "2   coup        23      (8050,)  {0: 4025, 1: 4025}   0.999947  0.999437   \n",
       "3   coup        23      (8050,)  {0: 4025, 1: 4025}   0.998634  0.988303   \n",
       "4   coup        23         8050  {0: 4025, 1: 4025}   0.882110  0.880260   \n",
       "\n",
       "                                               Notes  \n",
       "0  Round 2: Missing data imputed with global mean...  \n",
       "1  Round 3: Missing data imputed with global mean...  \n",
       "2  Round 2: Missing data imputed with global mean...  \n",
       "3  Round 2: Missing data imputed with global mean...  \n",
       "4  Round 3: Missing data imputed with global mean...  "
      ]
     },
     "execution_count": 64,
     "metadata": {},
     "output_type": "execute_result"
    }
   ],
   "source": [
    "cv_df.reset_index(inplace=True)\n",
    "cv_df"
   ]
  },
  {
   "cell_type": "code",
   "execution_count": 71,
   "metadata": {},
   "outputs": [
    {
     "data": {
      "text/html": [
       "<div>\n",
       "<style scoped>\n",
       "    .dataframe tbody tr th:only-of-type {\n",
       "        vertical-align: middle;\n",
       "    }\n",
       "\n",
       "    .dataframe tbody tr th {\n",
       "        vertical-align: top;\n",
       "    }\n",
       "\n",
       "    .dataframe thead th {\n",
       "        text-align: right;\n",
       "    }\n",
       "</style>\n",
       "<table border=\"1\" class=\"dataframe\">\n",
       "  <thead>\n",
       "    <tr style=\"text-align: right;\">\n",
       "      <th></th>\n",
       "      <th>Model</th>\n",
       "      <th>Train_AUC</th>\n",
       "      <th>CV_AUC</th>\n",
       "    </tr>\n",
       "  </thead>\n",
       "  <tbody>\n",
       "    <tr>\n",
       "      <th>2</th>\n",
       "      <td>Gradient Boosting</td>\n",
       "      <td>0.999947</td>\n",
       "      <td>0.999437</td>\n",
       "    </tr>\n",
       "    <tr>\n",
       "      <th>0</th>\n",
       "      <td>Bagging</td>\n",
       "      <td>0.998049</td>\n",
       "      <td>0.997005</td>\n",
       "    </tr>\n",
       "    <tr>\n",
       "      <th>3</th>\n",
       "      <td>K-Nearest Neighbors</td>\n",
       "      <td>0.998634</td>\n",
       "      <td>0.988303</td>\n",
       "    </tr>\n",
       "    <tr>\n",
       "      <th>1</th>\n",
       "      <td>Decision Tree</td>\n",
       "      <td>0.935240</td>\n",
       "      <td>0.930220</td>\n",
       "    </tr>\n",
       "    <tr>\n",
       "      <th>4</th>\n",
       "      <td>Logistic Regression</td>\n",
       "      <td>0.882110</td>\n",
       "      <td>0.880260</td>\n",
       "    </tr>\n",
       "  </tbody>\n",
       "</table>\n",
       "</div>"
      ],
      "text/plain": [
       "                 Model  Train_AUC    CV_AUC\n",
       "2    Gradient Boosting   0.999947  0.999437\n",
       "0              Bagging   0.998049  0.997005\n",
       "3  K-Nearest Neighbors   0.998634  0.988303\n",
       "1        Decision Tree   0.935240  0.930220\n",
       "4  Logistic Regression   0.882110  0.880260"
      ]
     },
     "execution_count": 71,
     "metadata": {},
     "output_type": "execute_result"
    }
   ],
   "source": [
    "cv_df = cv_df[['Model','Train_AUC', 'CV_AUC']]\n",
    "cv_df.sort_values(by=['CV_AUC'], ascending=False, inplace=True)\n",
    "cv_df"
   ]
  },
  {
   "cell_type": "code",
   "execution_count": null,
   "metadata": {},
   "outputs": [],
   "source": [
    "# import seaborn as sns\n",
    "# sns.set(style=\"whitegrid\")\n",
    "\n",
    "# g = sns.catplot(x='Model', hue=\"Model\", data=cv_df,\n",
    "#                 height=6, kind=\"bar\", palette=\"muted\")\n",
    "# g.despine(left=True)\n",
    "#g.set_ylabels(\"\")"
   ]
  },
  {
   "cell_type": "code",
   "execution_count": null,
   "metadata": {},
   "outputs": [],
   "source": [
    "# sns.barplot(data=cv_df, x=\"variable\", y=\"value\", hue=\"index\")\n",
    "\n",
    "# plt.show()"
   ]
  },
  {
   "cell_type": "code",
   "execution_count": 133,
   "metadata": {},
   "outputs": [
    {
     "data": {
      "text/plain": [
       "<Figure size 720x720 with 0 Axes>"
      ]
     },
     "metadata": {},
     "output_type": "display_data"
    },
    {
     "data": {
      "image/png": "[encoded data removed]",
      "text/plain": [
       "<Figure size 921.6x633.6 with 1 Axes>"
      ]
     },
     "metadata": {
      "needs_background": "light"
     },
     "output_type": "display_data"
    }
   ],
   "source": [
    "plt.style.use('seaborn-poster')\n",
    "plt.figure(figsize=(10,10))\n",
    "auc = cv_df.plot.bar(color = ['darkred', 'darkorange'], alpha = 0.85)\n",
    "plt.title('Area Under the Curve:\\nBest Performing Models',fontweight=\"bold\", fontsize = 24)\n",
    "plt.xlabel('Model', fontsize=15, fontweight=\"bold\", labelpad=20)\n",
    "plt.ylabel('Area Under\\nthe Curve', fontsize=15, fontweight=\"bold\", rotation=0, labelpad = 74);\n",
    "plt.xticks(np.arange(5), ('Gradient\\nBoosting', 'Bagging', 'K-Nearest\\nNeighbors', 'Decision\\nTree', 'Logistic\\nRegression'), rotation=0)\n",
    "plt.legend(loc='upper center', bbox_to_anchor=(1.15, 1), shadow=True, ncol=1)\n",
    "auc = auc.get_figure()  \n",
    "auc.savefig(\"auc_bad.png\", format='png', bbox_inches='tight');"
   ]
  },
  {
   "cell_type": "code",
   "execution_count": null,
   "metadata": {},
   "outputs": [],
   "source": []
  },
  {
   "cell_type": "code",
   "execution_count": null,
   "metadata": {},
   "outputs": [],
   "source": []
  },
  {
   "cell_type": "code",
   "execution_count": null,
   "metadata": {},
   "outputs": [],
   "source": []
  },
  {
   "cell_type": "code",
   "execution_count": null,
   "metadata": {},
   "outputs": [],
   "source": []
  }
 ],
 "metadata": {
  "kernelspec": {
   "display_name": "metis",
   "language": "python",
   "name": "metis"
  },
  "language_info": {
   "codemirror_mode": {
    "name": "ipython",
    "version": 3
   },
   "file_extension": ".py",
   "mimetype": "text/x-python",
   "name": "python",
   "nbconvert_exporter": "python",
   "pygments_lexer": "ipython3",
   "version": "3.6.8"
  },
  "toc": {
   "base_numbering": 1,
   "nav_menu": {},
   "number_sections": true,
   "sideBar": true,
   "skip_h1_title": false,
   "title_cell": "Table of Contents",
   "title_sidebar": "Contents",
   "toc_cell": false,
   "toc_position": {},
   "toc_section_display": true,
   "toc_window_display": false
  },
  "varInspector": {
   "cols": {
    "lenName": 16,
    "lenType": 16,
    "lenVar": 40
   },
   "kernels_config": {
    "python": {
     "delete_cmd_postfix": "",
     "delete_cmd_prefix": "del ",
     "library": "var_list.py",
     "varRefreshCmd": "print(var_dic_list())"
    },
    "r": {
     "delete_cmd_postfix": ") ",
     "delete_cmd_prefix": "rm(",
     "library": "var_list.r",
     "varRefreshCmd": "cat(var_dic_list()) "
    }
   },
   "types_to_exclude": [
    "module",
    "function",
    "builtin_function_or_method",
    "instance",
    "_Feature"
   ],
   "window_display": false
  }
 },
 "nbformat": 4,
 "nbformat_minor": 2
}
